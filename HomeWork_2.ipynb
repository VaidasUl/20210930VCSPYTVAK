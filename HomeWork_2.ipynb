{
 "cells": [
  {
   "cell_type": "markdown",
   "metadata": {},
   "source": [
    "# Lesson 04 HW"
   ]
  },
  {
   "cell_type": "code",
   "execution_count": 25,
   "metadata": {},
   "outputs": [],
   "source": [
    "# Parašykite funkciją, kuri priims string tipo kintamąjį, gražinkite kiek tame stringę yra raidžių, skaičiaus\n",
    "# simbolių ir skyrybos ženklų, tarpas neturi būti skyrybos ženklas\n",
    "\n",
    "import string\n",
    "def simboliu_ieskotojas(tekstas):\n",
    "    raides = 0\n",
    "    skaiciai = 0\n",
    "    skyryba = 0\n",
    "    for char in tekstas:\n",
    "        if char.isalpha():\n",
    "            raides +=1\n",
    "        elif char.isdigit():\n",
    "            skaiciai +=1\n",
    "        elif char in string.punctuation:\n",
    "            skyryba +=1\n",
    "    return (f'Raidziu yra {raides}, skaiciu yra {skaiciai}, simboliu yra {skyryba}')"
   ]
  },
  {
   "cell_type": "code",
   "execution_count": 35,
   "metadata": {},
   "outputs": [
    {
     "name": "stdout",
     "output_type": "stream",
     "text": [
      "Raidziu yra 6, skaiciu yra 1, simboliu yra 2\n"
     ]
    }
   ],
   "source": [
    "print (simboliu_ieskotojas('vienas 2 ??'))"
   ]
  },
  {
   "cell_type": "code",
   "execution_count": 84,
   "metadata": {},
   "outputs": [],
   "source": [
    "# Parašykite funkciją, kuri priima tris skaičius, jie reikš nuo, iki ir žingsnis. Funkcija turi grąžinti listą skaičių\n",
    "# tokių, kokius padavėte funkcijai\n",
    "\n",
    "def skaiciu_kurejas(nuo, iki, zingsnis):\n",
    "    return list(range(nuo, iki, zingsnis))"
   ]
  },
  {
   "cell_type": "code",
   "execution_count": 85,
   "metadata": {},
   "outputs": [
    {
     "name": "stdout",
     "output_type": "stream",
     "text": [
      "[10, 15, 20, 25, 30, 35, 40, 45, 50, 55, 60, 65, 70, 75, 80, 85, 90, 95]\n"
     ]
    }
   ],
   "source": [
    "print (skaiciu_kurejas(10,100,5))"
   ]
  },
  {
   "cell_type": "code",
   "execution_count": 86,
   "metadata": {},
   "outputs": [],
   "source": [
    "# Parašyti funkcija, kuri priima vieną listą, funkcija grąžina skirtumą tarp didžiausio skaičiaus ir mažiausio skaičiaus\n",
    "\n",
    "def skirtumas (list1):\n",
    "    return f'ats: ({max(list1)} - {min(list1)}) = {max(list1)-min(list1)}'"
   ]
  },
  {
   "cell_type": "code",
   "execution_count": 87,
   "metadata": {},
   "outputs": [
    {
     "name": "stdout",
     "output_type": "stream",
     "text": [
      "ats: (10 - 1) = 9\n"
     ]
    }
   ],
   "source": [
    "print (skirtumas([1, 5, 6, 10, 4]))"
   ]
  }
 ],
 "metadata": {
  "interpreter": {
   "hash": "300dc6409ba76354ad2ba64728fb92bcac588e406734ac1d0e0da2eacc6bb35a"
  },
  "kernelspec": {
   "display_name": "Python 3.9.7 64-bit",
   "name": "python3"
  },
  "language_info": {
   "codemirror_mode": {
    "name": "ipython",
    "version": 3
   },
   "file_extension": ".py",
   "mimetype": "text/x-python",
   "name": "python",
   "nbconvert_exporter": "python",
   "pygments_lexer": "ipython3",
   "version": "3.9.7"
  },
  "orig_nbformat": 4
 },
 "nbformat": 4,
 "nbformat_minor": 2
}
