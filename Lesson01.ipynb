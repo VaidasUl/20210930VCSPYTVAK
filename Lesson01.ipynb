{
 "cells": [
  {
   "cell_type": "code",
   "execution_count": 1,
   "source": [
    "kintamasis = 1\r\n"
   ],
   "outputs": [],
   "metadata": {}
  },
  {
   "cell_type": "code",
   "execution_count": 2,
   "source": [
    "print ( kintamasis)"
   ],
   "outputs": [
    {
     "output_type": "stream",
     "name": "stdout",
     "text": [
      "1\n"
     ]
    }
   ],
   "metadata": {}
  },
  {
   "cell_type": "code",
   "execution_count": 3,
   "source": [
    "kintamasis_2 = 5"
   ],
   "outputs": [],
   "metadata": {}
  },
  {
   "cell_type": "code",
   "execution_count": 4,
   "source": [
    "print (kintamasis_2)"
   ],
   "outputs": [
    {
     "output_type": "stream",
     "name": "stdout",
     "text": [
      "5\n"
     ]
    }
   ],
   "metadata": {}
  },
  {
   "cell_type": "code",
   "execution_count": 5,
   "source": [
    "text = 'Vaidas'\r\n",
    "print(text)"
   ],
   "outputs": [
    {
     "output_type": "stream",
     "name": "stdout",
     "text": [
      "Vaidas\n"
     ]
    }
   ],
   "metadata": {}
  },
  {
   "cell_type": "code",
   "execution_count": 6,
   "source": [
    "text_2 = \"Vaidas\"\r\n",
    "print(text_2)"
   ],
   "outputs": [
    {
     "output_type": "stream",
     "name": "stdout",
     "text": [
      "Vaidas\n"
     ]
    }
   ],
   "metadata": {}
  },
  {
   "cell_type": "code",
   "execution_count": 7,
   "source": [
    "tekstas = \"cia yra kabute 'tokia\"\r\n",
    "print (tekstas)"
   ],
   "outputs": [
    {
     "output_type": "stream",
     "name": "stdout",
     "text": [
      "cia yra kabute 'tokia\n"
     ]
    }
   ],
   "metadata": {}
  },
  {
   "cell_type": "code",
   "execution_count": 8,
   "source": [
    "tekstas_2 = 'tekstas \"Vaidas\"'\r\n",
    "print (tekstas_2)"
   ],
   "outputs": [
    {
     "output_type": "stream",
     "name": "stdout",
     "text": [
      "tekstas \"Vaidas\"\n"
     ]
    }
   ],
   "metadata": {}
  },
  {
   "cell_type": "code",
   "execution_count": 9,
   "source": [
    "# kometaras\r\n",
    "formatuotas_tekstas = \"\"\"cia yra\r\n",
    "eiliuotas\r\n",
    "tekstas\"\"\"\r\n",
    "print(formatuotas_tekstas)"
   ],
   "outputs": [
    {
     "output_type": "stream",
     "name": "stdout",
     "text": [
      "cia yra\n",
      "eiliuotas\n",
      "tekstas\n"
     ]
    }
   ],
   "metadata": {}
  },
  {
   "cell_type": "code",
   "execution_count": 10,
   "source": [
    "vardas = 'Vaidas'\r\n",
    "pavarde = \"Ulenskas\"\r\n",
    "print(vardas, pavarde)\r\n",
    "print (vardas + ' ' + pavarde)\r\n",
    "# f-string\r\n",
    "print (f'{vardas} {pavarde}')\r\n",
    "print (f'mano vardas yra {vardas} o pavarde {pavarde}')"
   ],
   "outputs": [
    {
     "output_type": "stream",
     "name": "stdout",
     "text": [
      "Vaidas Ulenskas\n",
      "Vaidas Ulenskas\n",
      "Vaidas Ulenskas\n",
      "mano vardas yra Vaidas o pavarde Ulenskas\n"
     ]
    }
   ],
   "metadata": {}
  },
  {
   "cell_type": "code",
   "execution_count": 11,
   "source": [
    "print(formatuotas_tekstas)"
   ],
   "outputs": [
    {
     "output_type": "stream",
     "name": "stdout",
     "text": [
      "cia yra\n",
      "eiliuotas\n",
      "tekstas\n"
     ]
    }
   ],
   "metadata": {}
  },
  {
   "cell_type": "code",
   "execution_count": 19,
   "source": [
    "tekstas = 'Python makes me really happy!'\r\n",
    "print (tekstas.upper() )\r\n",
    "print (tekstas.capitalize())\r\n",
    "print (tekstas.title())\r\n",
    "\r\n",
    "print (tekstas.replace('Python', 'PyThOn'))"
   ],
   "outputs": [
    {
     "output_type": "stream",
     "name": "stdout",
     "text": [
      "PYTHON MAKES ME REALLY HAPPY!\n",
      "Python makes me really happy!\n",
      "Python Makes Me Really Happy!\n",
      "PyThOn makes me really happy!\n"
     ]
    }
   ],
   "metadata": {}
  },
  {
   "cell_type": "code",
   "execution_count": 30,
   "source": [
    "# Slicing\r\n",
    "sentence = 'Hello World, I am happy to learn Python!'\r\n",
    "print(sentence[0])\r\n",
    "print(sentence[2])\r\n",
    "print(sentence[-1])\r\n",
    "print(sentence[13:20])\r\n",
    "print(sentence[13:20:2])\r\n",
    "# [start:end:step]\r\n",
    "print (sentence[18:23])\r\n",
    "word_to_find = 'Python'\r\n",
    "print (sentence[sentence.index(word_to_find):sentence.index(word_to_find)+len(word_to_find)])"
   ],
   "outputs": [
    {
     "output_type": "stream",
     "name": "stdout",
     "text": [
      "H\n",
      "l\n",
      "!\n",
      "I am ha\n",
      "Ia a\n",
      "happy\n",
      "Python\n"
     ]
    }
   ],
   "metadata": {}
  }
 ],
 "metadata": {
  "orig_nbformat": 4,
  "language_info": {
   "name": "python",
   "version": "3.9.7",
   "mimetype": "text/x-python",
   "codemirror_mode": {
    "name": "ipython",
    "version": 3
   },
   "pygments_lexer": "ipython3",
   "nbconvert_exporter": "python",
   "file_extension": ".py"
  },
  "kernelspec": {
   "name": "python3",
   "display_name": "Python 3.9.7 64-bit"
  },
  "interpreter": {
   "hash": "300dc6409ba76354ad2ba64728fb92bcac588e406734ac1d0e0da2eacc6bb35a"
  }
 },
 "nbformat": 4,
 "nbformat_minor": 2
}