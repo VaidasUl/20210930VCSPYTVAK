{
 "cells": [
  {
   "cell_type": "markdown",
   "metadata": {},
   "source": [
    "# Lesson 01 - String"
   ]
  },
  {
   "cell_type": "code",
   "execution_count": 141,
   "metadata": {},
   "outputs": [
    {
     "name": "stdout",
     "output_type": "stream",
     "text": [
      "33\n",
      "20\n",
      "m\n",
      "labas vakaras, mano vardas vaidas\n",
      "Labas vakaras, mano vardas Vaidas\n"
     ]
    }
   ],
   "source": [
    "tekstas = \"Labas vakaras, mano vardas Vaidas\"\n",
    "print (len(tekstas))\n",
    "print (tekstas.find(\"vardas\"))\n",
    "print (tekstas[15])\n",
    "print (tekstas.lower())\n",
    "print (tekstas)\n",
    "\n",
    "\n"
   ]
  },
  {
   "cell_type": "code",
   "execution_count": 142,
   "metadata": {},
   "outputs": [
    {
     "name": "stdout",
     "output_type": "stream",
     "text": [
      "mano vardas Vaidas, o pavarde Ulenskas\n",
      "Vaidas Ulenskas\n"
     ]
    }
   ],
   "source": [
    "vardas = \"Vaidas\"\n",
    "pavarde = 'Ulenskas'\n",
    "print (f\"mano vardas {vardas}, o pavarde {pavarde}\")\n",
    "print (vardas + \" \" + pavarde)"
   ]
  },
  {
   "cell_type": "code",
   "execution_count": 143,
   "metadata": {},
   "outputs": [
    {
     "name": "stdout",
     "output_type": "stream",
     "text": [
      "PYTHON MAKES ME REALLY REALLY HAPPY\n",
      "PyThOn makes me really really happy\n"
     ]
    }
   ],
   "source": [
    "tekstas = 'Python makes me really really happy'\n",
    "print (tekstas.upper())\n",
    "print (tekstas.replace(\"Python\", \"PyThOn\"))"
   ]
  },
  {
   "cell_type": "code",
   "execution_count": 144,
   "metadata": {},
   "outputs": [
    {
     "name": "stdout",
     "output_type": "stream",
     "text": [
      "happy\n",
      "to\n",
      "39\n",
      "happy\n",
      "happy\n"
     ]
    }
   ],
   "source": [
    "tekstas_2 = 'Hello World, I am happy to learn Python'\n",
    "slice_txt = slice(18,23,1)\n",
    "print (tekstas_2[slice_txt])\n",
    "slice_txt2 = slice(24,26)\n",
    "print (tekstas_2[slice_txt2])\n",
    "print (len(tekstas_2))\n",
    "print (tekstas_2[18:23])\n",
    "word_to_find = 'happy'\n",
    "print (tekstas_2[tekstas_2.index(word_to_find):tekstas_2.index(word_to_find)+len(word_to_find)])"
   ]
  },
  {
   "cell_type": "markdown",
   "metadata": {},
   "source": [
    "# Lesson 01 - integer"
   ]
  },
  {
   "cell_type": "code",
   "execution_count": 145,
   "metadata": {},
   "outputs": [
    {
     "name": "stdout",
     "output_type": "stream",
     "text": [
      "5\n",
      "-1\n",
      "6\n",
      "0.6666666666666666\n",
      "2\n",
      "4\n"
     ]
    }
   ],
   "source": [
    "pirmas = 2\n",
    "antras = 3\n",
    "print (pirmas + antras)\n",
    "print (pirmas - antras)\n",
    "print (pirmas * antras)\n",
    "print (pirmas / antras)\n",
    "print (pirmas % antras)\n",
    "print (19 % 5)"
   ]
  },
  {
   "cell_type": "code",
   "execution_count": 146,
   "metadata": {},
   "outputs": [
    {
     "name": "stdout",
     "output_type": "stream",
     "text": [
      "7.92\n",
      "2.3800000000000003\n",
      "14.265500000000001\n",
      "1.8592057761732854\n"
     ]
    }
   ],
   "source": [
    "print (5.15 + 2.77)\n",
    "print (5.15 - 2.77)\n",
    "print (5.15 * 2.77)\n",
    "print (5.15 / 2.77)\n"
   ]
  },
  {
   "cell_type": "code",
   "execution_count": 147,
   "metadata": {},
   "outputs": [
    {
     "name": "stdout",
     "output_type": "stream",
     "text": [
      "atstumu skirtumas yra 390.625\n"
     ]
    }
   ],
   "source": [
    "menulis = 384000\n",
    "saule = 150000000\n",
    "atstumas_1 = saule / menulis\n",
    "print (f'atstumu skirtumas yra {atstumas_1}')\n"
   ]
  },
  {
   "cell_type": "code",
   "execution_count": 148,
   "metadata": {},
   "outputs": [
    {
     "name": "stdout",
     "output_type": "stream",
     "text": [
      "iki menulio vaziuodami 150 km/h nuvaziuotume per 2560.0 valandas\n"
     ]
    }
   ],
   "source": [
    "import datetime\n",
    "greitis = 150 #km/h\n",
    "print (f'iki menulio vaziuodami {greitis} km/h nuvaziuotume per {menulis/greitis} valandas')"
   ]
  },
  {
   "cell_type": "code",
   "execution_count": 149,
   "metadata": {},
   "outputs": [
    {
     "name": "stdout",
     "output_type": "stream",
     "text": [
      "12737 days, 0:00:00\n"
     ]
    }
   ],
   "source": [
    "gimimo_data = datetime.date(1986, 11, 26)\n",
    "dabar = datetime.date(2021,10,10)\n",
    "print (dabar - gimimo_data)"
   ]
  },
  {
   "cell_type": "markdown",
   "metadata": {},
   "source": [
    "# lesson 01 - Boolean"
   ]
  },
  {
   "cell_type": "code",
   "execution_count": 150,
   "metadata": {},
   "outputs": [
    {
     "name": "stdout",
     "output_type": "stream",
     "text": [
      "True\n",
      "False\n",
      "False\n",
      "False\n"
     ]
    }
   ],
   "source": [
    "tr1 = 5>3\n",
    "tr2 = 'a' == 'b'\n",
    "tr3 = 5 !=5\n",
    "print(tr1)\n",
    "print(tr2)\n",
    "print(tr3)\n",
    "print (bool(0))"
   ]
  },
  {
   "cell_type": "markdown",
   "metadata": {},
   "source": [
    "# lesson 02 - List"
   ]
  },
  {
   "cell_type": "code",
   "execution_count": 151,
   "metadata": {},
   "outputs": [
    {
     "name": "stdout",
     "output_type": "stream",
     "text": [
      "4\n",
      "Ieva\n",
      "2\n",
      "['Vaidas', 'Tomas', 'Ieva', 'Tomas']\n",
      "False\n"
     ]
    }
   ],
   "source": [
    "sarasas_1 = ['Vaidas', 'Tomas', 'Ieva', 'Tomas']\n",
    "print (len(sarasas_1))\n",
    "print (sarasas_1[2])\n",
    "print (sarasas_1.count('Tomas'))\n",
    "print (sarasas_1)\n",
    "print ('Jonas' in sarasas_1)"
   ]
  },
  {
   "cell_type": "code",
   "execution_count": 152,
   "metadata": {},
   "outputs": [
    {
     "name": "stdout",
     "output_type": "stream",
     "text": [
      "4\n",
      "['Vaidas', 'Tomas', 'Ieva', 'Tomas', 'Mykolas']\n"
     ]
    }
   ],
   "source": [
    "print (len(sarasas_1))\n",
    "sarasas_1.append('Mykolas')\n",
    "print (sarasas_1)"
   ]
  },
  {
   "cell_type": "code",
   "execution_count": 153,
   "metadata": {},
   "outputs": [
    {
     "name": "stdout",
     "output_type": "stream",
     "text": [
      "True\n"
     ]
    }
   ],
   "source": [
    "print ('Mykolas' in sarasas_1)"
   ]
  },
  {
   "cell_type": "code",
   "execution_count": 164,
   "metadata": {},
   "outputs": [
    {
     "name": "stdout",
     "output_type": "stream",
     "text": [
      "['Vaidas', 'Tomas', 'Ieva', 'Tomas', 'Mykolas']\n",
      "[1, 2, 3, 4]\n"
     ]
    }
   ],
   "source": [
    "sarasas = [1, 2, 3, 4]\n",
    "print (sarasas_1)\n",
    "print (sarasas)"
   ]
  },
  {
   "cell_type": "code",
   "execution_count": 165,
   "metadata": {},
   "outputs": [
    {
     "name": "stdout",
     "output_type": "stream",
     "text": [
      "['Vaidas', 'Tomas', 'Ieva', 'Tomas', 'Mykolas', 1, 2, 3, 4]\n"
     ]
    }
   ],
   "source": [
    "sarasas_3 = sarasas_1 + sarasas\n",
    "print (sarasas_3)"
   ]
  },
  {
   "cell_type": "code",
   "execution_count": 166,
   "metadata": {},
   "outputs": [
    {
     "data": {
      "text/plain": [
       "4"
      ]
     },
     "execution_count": 166,
     "metadata": {},
     "output_type": "execute_result"
    }
   ],
   "source": [
    "sarasas_3.pop()"
   ]
  },
  {
   "cell_type": "code",
   "execution_count": 179,
   "metadata": {},
   "outputs": [
    {
     "name": "stdout",
     "output_type": "stream",
     "text": [
      "['Ieva', 'Mykolas', 'Tomas', 'Tomas', 'Vaidas']\n",
      "['Ieva', 'Mykolas', 'Tomas', 'Tomas', 'Vaidas', 1, 2, 3]\n",
      "2\n",
      "None\n",
      "['Mykolas', 'Tomas', 1, 3]\n"
     ]
    }
   ],
   "source": [
    "print (sarasas_1)\n",
    "print (sarasas_3)\n",
    "print (sarasas_3.count('Tomas'))\n",
    "print (sarasas_1.sort())\n",
    "print (sarasas_3[1::2])"
   ]
  },
  {
   "cell_type": "markdown",
   "metadata": {},
   "source": [
    "# lesson 02 - Tuple"
   ]
  },
  {
   "cell_type": "code",
   "execution_count": 188,
   "metadata": {},
   "outputs": [
    {
     "name": "stdout",
     "output_type": "stream",
     "text": [
      "(1, 2, ['3', 4, 5], [6, [7, 8]])\n",
      "8\n",
      "2\n"
     ]
    }
   ],
   "source": [
    "tuple_1 = (1, 2, ['3', 4, 5], [6, [7, (8)]])\n",
    "print (tuple_1)\n",
    "print (tuple_1[-1][-1][-1])\n",
    "print (tuple_1.index(['3', 4, 5]))"
   ]
  },
  {
   "cell_type": "code",
   "execution_count": 191,
   "metadata": {},
   "outputs": [
    {
     "name": "stdout",
     "output_type": "stream",
     "text": [
      "(11, [222, 33], 44, 55)\n"
     ]
    }
   ],
   "source": [
    "tuple_2 = (11, [222, 33], 44, 55)\n",
    "print (tuple_2)\n"
   ]
  },
  {
   "cell_type": "code",
   "execution_count": 202,
   "metadata": {},
   "outputs": [
    {
     "name": "stdout",
     "output_type": "stream",
     "text": [
      "[11, [222, 22], 44, 55]\n",
      "[11, [222, 22], 44, 55]\n",
      "(11, [222, 22], 44, 55)\n"
     ]
    }
   ],
   "source": [
    "tmp = list(tuple_2)\n",
    "print (tmp)\n",
    "tmp[1] = [222, 22]\n",
    "print (tmp)\n",
    "tuple_2 = tuple(tmp)\n",
    "print (tuple_2)\n"
   ]
  },
  {
   "cell_type": "code",
   "execution_count": 205,
   "metadata": {},
   "outputs": [
    {
     "name": "stdout",
     "output_type": "stream",
     "text": [
      "(11, [222, 22], 44, 55)\n"
     ]
    }
   ],
   "source": [
    "tuple_3 = (11, [222, 33], 44, 55)\n",
    "tuple_3[1][1] = 22\n",
    "print (tuple_3)"
   ]
  },
  {
   "cell_type": "markdown",
   "metadata": {},
   "source": [
    "# lesson 02 - Range"
   ]
  },
  {
   "cell_type": "code",
   "execution_count": 213,
   "metadata": {},
   "outputs": [
    {
     "name": "stdout",
     "output_type": "stream",
     "text": [
      "(1, 2, 3, 4, 5, 6, 7, 8, 9)\n"
     ]
    }
   ],
   "source": [
    "print(tuple(range(1,10)))\n"
   ]
  },
  {
   "cell_type": "code",
   "execution_count": 215,
   "metadata": {},
   "outputs": [
    {
     "name": "stdout",
     "output_type": "stream",
     "text": [
      "0\n",
      "1\n",
      "2\n",
      "3\n",
      "4\n",
      "5\n",
      "6\n",
      "7\n",
      "8\n",
      "9\n"
     ]
    }
   ],
   "source": [
    "for zodis in range(10):\n",
    "    print (zodis)"
   ]
  },
  {
   "cell_type": "markdown",
   "metadata": {},
   "source": [
    "# lesson 02 - For loop"
   ]
  },
  {
   "cell_type": "code",
   "execution_count": 216,
   "metadata": {},
   "outputs": [
    {
     "name": "stdout",
     "output_type": "stream",
     "text": [
      "0\n",
      "1\n",
      "2\n",
      "3\n",
      "4\n",
      "5\n",
      "6\n",
      "7\n",
      "8\n",
      "9\n"
     ]
    }
   ],
   "source": [
    "for skaicius in range(10):\n",
    "    print (skaicius)"
   ]
  },
  {
   "cell_type": "code",
   "execution_count": 223,
   "metadata": {},
   "outputs": [
    {
     "name": "stdout",
     "output_type": "stream",
     "text": [
      "0\n",
      "2\n",
      "4\n",
      "6\n",
      "8\n",
      "10\n",
      "12\n",
      "14\n",
      "16\n",
      "18\n",
      "20\n"
     ]
    }
   ],
   "source": [
    "sk = int(input(\"Enter the number\"))\n",
    "for skt in range(11):\n",
    "    print (sk * skt)"
   ]
  },
  {
   "cell_type": "markdown",
   "metadata": {},
   "source": []
  },
  {
   "cell_type": "code",
   "execution_count": 225,
   "metadata": {},
   "outputs": [
    {
     "name": "stdout",
     "output_type": "stream",
     "text": [
      "10\n"
     ]
    }
   ],
   "source": [
    "print (sum(range(5)))"
   ]
  },
  {
   "cell_type": "code",
   "execution_count": 234,
   "metadata": {},
   "outputs": [
    {
     "name": "stdout",
     "output_type": "stream",
     "text": [
      "['Pirmadienis', 'Antradienis', 'Treciadienis', 'Ketvirtadienis', 'Penktadienis', 'Sestadienis', 'Sekmadienis']\n",
      "[10, 11, 12, 13, 14, 15, 16, 17, 18, 19]\n",
      "[('Pirmadienis', 10), ('Pirmadienis', 11), ('Pirmadienis', 12), ('Pirmadienis', 13), ('Pirmadienis', 14), ('Pirmadienis', 15), ('Pirmadienis', 16), ('Pirmadienis', 17), ('Pirmadienis', 18), ('Pirmadienis', 19), ('Antradienis', 10), ('Antradienis', 11), ('Antradienis', 12), ('Antradienis', 13), ('Antradienis', 14), ('Antradienis', 15), ('Antradienis', 16), ('Antradienis', 17), ('Antradienis', 18), ('Antradienis', 19), ('Treciadienis', 10), ('Treciadienis', 11), ('Treciadienis', 12), ('Treciadienis', 13), ('Treciadienis', 14), ('Treciadienis', 15), ('Treciadienis', 16), ('Treciadienis', 17), ('Treciadienis', 18), ('Treciadienis', 19), ('Ketvirtadienis', 10), ('Ketvirtadienis', 11), ('Ketvirtadienis', 12), ('Ketvirtadienis', 13), ('Ketvirtadienis', 14), ('Ketvirtadienis', 15), ('Ketvirtadienis', 16), ('Ketvirtadienis', 17), ('Ketvirtadienis', 18), ('Ketvirtadienis', 19), ('Penktadienis', 10), ('Penktadienis', 11), ('Penktadienis', 12), ('Penktadienis', 13), ('Penktadienis', 14), ('Penktadienis', 15), ('Penktadienis', 16), ('Penktadienis', 17), ('Penktadienis', 18), ('Penktadienis', 19), ('Sestadienis', 10), ('Sestadienis', 11), ('Sestadienis', 12), ('Sestadienis', 13), ('Sestadienis', 14), ('Sestadienis', 15), ('Sestadienis', 16), ('Sestadienis', 17), ('Sestadienis', 18), ('Sestadienis', 19), ('Sekmadienis', 10), ('Sekmadienis', 11), ('Sekmadienis', 12), ('Sekmadienis', 13), ('Sekmadienis', 14), ('Sekmadienis', 15), ('Sekmadienis', 16), ('Sekmadienis', 17), ('Sekmadienis', 18), ('Sekmadienis', 19)]\n"
     ]
    }
   ],
   "source": [
    "dienos = ['Pirmadienis', 'Antradienis', 'Treciadienis', 'Ketvirtadienis', 'Penktadienis', 'Sestadienis', 'Sekmadienis']\n",
    "valandos = [10, 11, 12, 13, 14, 15, 16, 17, 18, 19]\n",
    "print (dienos)\n",
    "print (valandos)\n",
    "\n",
    "kombinacijos = []\n",
    "for diena in dienos:\n",
    "    for valanda in valandos:\n",
    "        kombinacijos.append((diena, valanda))\n",
    "print (kombinacijos)\n",
    "\n"
   ]
  },
  {
   "cell_type": "markdown",
   "metadata": {},
   "source": [
    "# lesson 03 - If"
   ]
  },
  {
   "cell_type": "code",
   "execution_count": 238,
   "metadata": {},
   "outputs": [
    {
     "name": "stdout",
     "output_type": "stream",
     "text": [
      "0\n",
      "3\n",
      "6\n",
      "9\n",
      "12\n",
      "15\n",
      "18\n"
     ]
    }
   ],
   "source": [
    "for sk20 in range(21):\n",
    "    if sk20 % 3 == 0:\n",
    "        print (sk20)\n",
    "    \n"
   ]
  },
  {
   "cell_type": "code",
   "execution_count": 246,
   "metadata": {},
   "outputs": [
    {
     "name": "stdout",
     "output_type": "stream",
     "text": [
      "650\n"
     ]
    }
   ],
   "source": [
    "suma50 = 0\n",
    "for sk50 in range (51):\n",
    "    if (suma50 + sk50) % 2 == 0:\n",
    "          suma50 += sk50 \n",
    "print (suma50)\n"
   ]
  },
  {
   "cell_type": "code",
   "execution_count": 248,
   "metadata": {},
   "outputs": [
    {
     "name": "stdout",
     "output_type": "stream",
     "text": [
      "0\n",
      "1\n",
      "2\n",
      "3\n",
      "4\n",
      "5\n",
      "6\n",
      "7\n",
      "8\n",
      "9\n",
      "10\n"
     ]
    }
   ],
   "source": [
    "psk = int(input(\"Jusu skaicius\"))\n",
    "for psk10 in range(0,11):\n",
    "    if (psk ** 2) % 2 != 0:\n",
    "        print (psk * psk10)"
   ]
  },
  {
   "cell_type": "code",
   "execution_count": 261,
   "metadata": {},
   "outputs": [
    {
     "name": "stdout",
     "output_type": "stream",
     "text": [
      "['Pirmadienis', 'Antradienis', 'Treciadienis', 'Ketvirtadienis', 'Penktadienis', 'Sestadienis', 'Sekmadienis']\n",
      "[10, 11, 12, 13, 14, 15, 16, 17, 18, 19]\n"
     ]
    }
   ],
   "source": [
    "print (dienos)\n",
    "print (valandos)"
   ]
  },
  {
   "cell_type": "code",
   "execution_count": 266,
   "metadata": {},
   "outputs": [
    {
     "name": "stdout",
     "output_type": "stream",
     "text": [
      "[('Pirmadienis', 12), ('Pirmadienis', 13), ('Pirmadienis', 14), ('Pirmadienis', 15), ('Pirmadienis', 16), ('Pirmadienis', 17), ('Treciadienis', 12), ('Treciadienis', 13), ('Treciadienis', 14), ('Treciadienis', 15), ('Treciadienis', 16), ('Treciadienis', 17)]\n"
     ]
    }
   ],
   "source": [
    "dienos = ['Pirmadienis', 'Antradienis', 'Treciadienis', 'Ketvirtadienis', 'Penktadienis', 'Sestadienis', 'Sekmadienis']\n",
    "valandos = [10, 11, 12, 13, 14, 15, 16, 17, 18, 19]\n",
    "\n",
    "kombinacijos2 = []\n",
    "\n",
    "leidziamos_dienos = ['Pirmadienis', 'Treciadienis']\n",
    "leidziamos_valandos = [12, 13, 14, 15, 16, 17]\n",
    "for diena in dienos:\n",
    "    for valanda in valandos:\n",
    "        if diena in leidziamos_dienos and valanda in leidziamos_valandos:\n",
    "            kombinacijos2.append((diena, valanda))\n",
    "print (kombinacijos2)"
   ]
  },
  {
   "cell_type": "markdown",
   "metadata": {},
   "source": [
    "# lesson 03 - list comprehensions"
   ]
  },
  {
   "cell_type": "code",
   "execution_count": 270,
   "metadata": {},
   "outputs": [
    {
     "name": "stdout",
     "output_type": "stream",
     "text": [
      "[('Pirmadienis', 12), ('Pirmadienis', 13), ('Pirmadienis', 14), ('Pirmadienis', 15), ('Pirmadienis', 16), ('Pirmadienis', 17), ('Treciadienis', 12), ('Treciadienis', 13), ('Treciadienis', 14), ('Treciadienis', 15), ('Treciadienis', 16), ('Treciadienis', 17)]\n"
     ]
    }
   ],
   "source": [
    "kombinacijos2 = [(diena, valanda) for diena in dienos for valanda in valandos if diena in leidziamos_dienos and valanda in leidziamos_valandos]\n",
    "print (kombinacijos2)"
   ]
  },
  {
   "cell_type": "markdown",
   "metadata": {},
   "source": [
    "# Lesson 03 - Dictionary"
   ]
  },
  {
   "cell_type": "code",
   "execution_count": 1,
   "metadata": {},
   "outputs": [],
   "source": [
    "car = {\n",
    "\"brand\": \"Ford\",\n",
    "\"model\": \"Mustang\",\n",
    "\"year\": 1964\n",
    "}"
   ]
  },
  {
   "cell_type": "code",
   "execution_count": 2,
   "metadata": {},
   "outputs": [
    {
     "name": "stdout",
     "output_type": "stream",
     "text": [
      "{'brand': 'Ford', 'model': 'Mustang', 'year': 1964}\n"
     ]
    }
   ],
   "source": [
    "print (car)"
   ]
  },
  {
   "cell_type": "code",
   "execution_count": 7,
   "metadata": {},
   "outputs": [
    {
     "name": "stdout",
     "output_type": "stream",
     "text": [
      "Ford\n",
      "3\n",
      "{'brand': 'Ford', 'model': 'Mustang', 'year': 2020}\n"
     ]
    }
   ],
   "source": [
    "print(car['brand'])\n",
    "print (len(car))\n",
    "car['year'] = 2020\n",
    "print(car)"
   ]
  },
  {
   "cell_type": "code",
   "execution_count": 11,
   "metadata": {},
   "outputs": [
    {
     "name": "stdout",
     "output_type": "stream",
     "text": [
      "{'brand': 'Ford', 'model': 'Mustang', 'year': 2020, 'color': 'red', 'used': True}\n"
     ]
    }
   ],
   "source": [
    "car['color'] = 'red'\n",
    "car['used'] = True\n",
    "print(car)"
   ]
  },
  {
   "cell_type": "code",
   "execution_count": 13,
   "metadata": {},
   "outputs": [
    {
     "name": "stdout",
     "output_type": "stream",
     "text": [
      "{'brand': 'Ford', 'model': 'Mustang', 'year': 2020, 'color': 'red', 'used': True}\n",
      "{'model': 'Mustang', 'year': None, 'color': 'red', 'used': True}\n"
     ]
    }
   ],
   "source": [
    "print (car)\n",
    "car.pop('brand')\n",
    "car['year'] = None\n",
    "print(car)"
   ]
  },
  {
   "cell_type": "markdown",
   "metadata": {},
   "source": [
    "# Lesson 03 - Set"
   ]
  },
  {
   "cell_type": "code",
   "execution_count": 23,
   "metadata": {},
   "outputs": [
    {
     "name": "stdout",
     "output_type": "stream",
     "text": [
      "{'apple', 'banana', ('nauja_reiksme', 5), 'cherry'}\n"
     ]
    }
   ],
   "source": [
    "fruits ={\"apple\", 'banana', 'cherry'}\n",
    "fruits.add(('nauja_reiksme', 5))\n",
    "print (fruits)\n"
   ]
  },
  {
   "cell_type": "code",
   "execution_count": 26,
   "metadata": {},
   "outputs": [
    {
     "name": "stdout",
     "output_type": "stream",
     "text": [
      "{'apple', 'banana', 'cherry'}\n",
      "{'banana', 'watermelon', 'cherry'}\n"
     ]
    }
   ],
   "source": [
    "fruits ={\"apple\", 'banana', 'cherry'}\n",
    "print (fruits)\n",
    "fruits.discard('apple')\n",
    "fruits.add(\"watermelon\")\n",
    "print (fruits)"
   ]
  },
  {
   "cell_type": "code",
   "execution_count": 31,
   "metadata": {},
   "outputs": [
    {
     "name": "stdout",
     "output_type": "stream",
     "text": [
      "{'apple', 'banana', 'cherry'}\n",
      "{'apple', 'banana', 'watermelon', 'cherry'}\n",
      "{'cytrus', 'watermelon', 'cherry', 'strawberry', 'melon', 'blueberry', 'grape', 'banana', 'apple'}\n",
      "9\n",
      "{'cytrus', 'watermelon', 'cherry', 'strawberry', 'melon', 'blueberry', 'grape', 'banana', 'apple'}\n"
     ]
    }
   ],
   "source": [
    "fruits ={\"apple\", 'banana', 'cherry'}\n",
    "print (fruits)\n",
    "fruits.add('watermelon')\n",
    "print (fruits)\n",
    "fruits.update(['grape', 'melon', 'cytrus', 'blueberry', 'strawberry'])\n",
    "print (fruits)\n",
    "print (len(fruits))\n",
    "fruits.add('watermelon')\n",
    "print (fruits)\n"
   ]
  },
  {
   "cell_type": "code",
   "execution_count": 32,
   "metadata": {},
   "outputs": [
    {
     "name": "stdout",
     "output_type": "stream",
     "text": [
      "[3, 6, -2, -5, 7, 3]\n"
     ]
    }
   ],
   "source": [
    "my_list = [3, 6, -2, -5, 7, 3]\n",
    "print (my_list)"
   ]
  },
  {
   "cell_type": "code",
   "execution_count": 40,
   "metadata": {},
   "outputs": [
    {
     "name": "stdout",
     "output_type": "stream",
     "text": [
      "21\n"
     ]
    }
   ],
   "source": [
    "sandauga = my_list[0] * my_list[1]\n",
    "for idx in range(1, len(my_list)-1):\n",
    "    if my_list[idx] * my_list[idx + 1] > sandauga:\n",
    "        sandauga = my_list[idx] * my_list[idx + 1]\n",
    "print (sandauga)"
   ]
  },
  {
   "cell_type": "code",
   "execution_count": 46,
   "metadata": {},
   "outputs": [
    {
     "name": "stdout",
     "output_type": "stream",
     "text": [
      "['bob', 'savas', 'kompiuteris', 'car', 'song', 'watermelon', 'mouse', 'box', 'cup', 'chocolate']\n"
     ]
    }
   ],
   "source": [
    "words = ['bob', 'savas', 'kompiuteris', 'car', 'song', 'watermelon', 'mouse', 'box', 'cup', 'chocolate']\n",
    "print (words)"
   ]
  },
  {
   "cell_type": "code",
   "execution_count": 49,
   "metadata": {},
   "outputs": [
    {
     "name": "stdout",
     "output_type": "stream",
     "text": [
      "kompiuteris\n",
      "1\n"
     ]
    }
   ],
   "source": [
    "count = 0\n",
    "for word in words:\n",
    "    if len(word) > 10:\n",
    "        count += 1\n",
    "        print (word)\n",
    "print (count)\n",
    "        \n"
   ]
  },
  {
   "cell_type": "code",
   "execution_count": 70,
   "metadata": {},
   "outputs": [
    {
     "name": "stdout",
     "output_type": "stream",
     "text": [
      "kompiuteris\n",
      "bob\n"
     ]
    }
   ],
   "source": [
    "print (max(words, key=len))\n",
    "print (min(words, key=len))"
   ]
  },
  {
   "cell_type": "code",
   "execution_count": 77,
   "metadata": {},
   "outputs": [
    {
     "name": "stdout",
     "output_type": "stream",
     "text": [
      "bob\n",
      "savas\n",
      "['bob', 'savas']\n"
     ]
    }
   ],
   "source": [
    "words = ['bob', 'savas', 'kompiuteris', 'car', 'song', 'watermelon', 'mouse', 'box', 'cup', 'chocolate']\n",
    "polindromas = []\n",
    "for word in words:\n",
    "    if word == word[::-1]:\n",
    "        print (word)\n",
    "        polindromas.append(word)\n",
    "print (polindromas)\n",
    "\n"
   ]
  },
  {
   "cell_type": "code",
   "execution_count": 3,
   "metadata": {},
   "outputs": [
    {
     "ename": "SyntaxError",
     "evalue": "EOL while scanning string literal (Temp/ipykernel_14852/3529259968.py, line 1)",
     "output_type": "error",
     "traceback": [
      "\u001b[1;36m  File \u001b[1;32m\"C:\\Users\\VARTOT~1\\AppData\\Local\\Temp/ipykernel_14852/3529259968.py\"\u001b[1;36m, line \u001b[1;32m1\u001b[0m\n\u001b[1;33m    txt2 = \"pw:\\\\railbaltica-pw.bentley.com:railbaltica-pw-01\\Documents\\Rail Baltica\\Lithuania\\LT_Territorial_Planning_SC\\02_LTGI\\03_Deliverables\\02_Kaunas_Node_SP\\2021.09.28 - VXE016 RB KNS mazgas - A1-A4 alt\\\"\u001b[0m\n\u001b[1;37m                                                                                                                                                                                                                   ^\u001b[0m\n\u001b[1;31mSyntaxError\u001b[0m\u001b[1;31m:\u001b[0m EOL while scanning string literal\n"
     ]
    }
   ],
   "source": [
    "txt2 = \"pw:\\\\railbaltica-pw.bentley.com:railbaltica-pw-01\\Documents\\Rail Baltica\\Lithuania\\LT_Territorial_Planning_SC\\02_LTGI\\03_Deliverables\\02_Kaunas_Node_SP\\2021.09.28 - VXE016 RB KNS mazgas - A1-A4 alt\\\"\n",
    "\n",
    "print (txt2)"
   ]
  },
  {
   "cell_type": "markdown",
   "metadata": {},
   "source": [
    "# Lesson 04 - Functions"
   ]
  },
  {
   "cell_type": "code",
   "execution_count": 14,
   "metadata": {},
   "outputs": [],
   "source": [
    "def du_skaiciai(x, y):\n",
    "    if (x + y) % 2 == 0:\n",
    "        return x * y\n",
    "    else:\n",
    "        return x/y"
   ]
  },
  {
   "cell_type": "code",
   "execution_count": 40,
   "metadata": {},
   "outputs": [
    {
     "name": "stdout",
     "output_type": "stream",
     "text": [
      "2.0\n"
     ]
    }
   ],
   "source": [
    "print (du_skaiciai (10, 5))\n"
   ]
  },
  {
   "cell_type": "code",
   "execution_count": 59,
   "metadata": {},
   "outputs": [],
   "source": [
    "def pass_funcion ():\n",
    "    print (\"labas\")\n"
   ]
  },
  {
   "cell_type": "code",
   "execution_count": 60,
   "metadata": {},
   "outputs": [],
   "source": [
    "new_funcion_name = pass_funcion"
   ]
  },
  {
   "cell_type": "code",
   "execution_count": 62,
   "metadata": {},
   "outputs": [
    {
     "name": "stdout",
     "output_type": "stream",
     "text": [
      "labas\n"
     ]
    }
   ],
   "source": [
    "new_funcion_name()"
   ]
  },
  {
   "cell_type": "code",
   "execution_count": 76,
   "metadata": {},
   "outputs": [],
   "source": [
    "def my_funcion_2(*args):\n",
    "    result_dict = {1:0, 2:0, 3:0, 4:0, 5:0, 6:0, 7:0, 8:0, 9:0, 10:0}\n",
    "    for number in args:\n",
    "        for key_numbers in result_dict.keys():\n",
    "            if number % key_numbers ==0:\n",
    "                result_dict[key_numbers] +=1\n",
    "    return (result_dict)\n"
   ]
  },
  {
   "cell_type": "code",
   "execution_count": 77,
   "metadata": {},
   "outputs": [
    {
     "name": "stdout",
     "output_type": "stream",
     "text": [
      "{1: 4, 2: 2, 3: 1, 4: 0, 5: 2, 6: 1, 7: 0, 8: 0, 9: 0, 10: 1}\n"
     ]
    }
   ],
   "source": [
    "print (my_funcion_2(1,2,65,30))"
   ]
  },
  {
   "cell_type": "code",
   "execution_count": 118,
   "metadata": {},
   "outputs": [],
   "source": [
    "def function_exercise(list1, list2):\n",
    "    suma1 = 0\n",
    "    suma2 = 0\n",
    "    for sk1 in list1:\n",
    "        if sk1 >= 10:\n",
    "            suma1 += sk1\n",
    "    for sk2 in list2:\n",
    "        if sk2>=10:\n",
    "            suma2 += sk2\n",
    "    return suma1 * suma2\n"
   ]
  },
  {
   "cell_type": "code",
   "execution_count": 119,
   "metadata": {},
   "outputs": [
    {
     "name": "stdout",
     "output_type": "stream",
     "text": [
      "74016\n"
     ]
    }
   ],
   "source": [
    "print (function_exercise([10,9,6,16,15,55,2,7],[20,642,33,76,9,7,2]))\n"
   ]
  },
  {
   "cell_type": "code",
   "execution_count": 137,
   "metadata": {},
   "outputs": [],
   "source": [
    "def function_exercise_2(list1, list2):\n",
    "    list1 = [sk1 for sk1 in list1 if sk1 >= 10]\n",
    "    print (list1)\n",
    "    list2 = [sk2 for sk2 in list2 if abs(sk2) >= 10]\n",
    "    print (list2)\n",
    "    return sum(list1) * sum(list2)\n"
   ]
  },
  {
   "cell_type": "code",
   "execution_count": 139,
   "metadata": {},
   "outputs": [
    {
     "name": "stdout",
     "output_type": "stream",
     "text": [
      "[10, 16, 15, 55]\n",
      "[20, 642, 33, 76]\n",
      "74016\n"
     ]
    }
   ],
   "source": [
    "print (function_exercise_2([10,9,6,16,15,55,2,7],[20,642,33,76,9,7,2]))"
   ]
  },
  {
   "cell_type": "code",
   "execution_count": 131,
   "metadata": {},
   "outputs": [],
   "source": [
    "def function_exercise_3(list1, list2):\n",
    "    suma1 = []\n",
    "    suma2 = []\n",
    "    for sk1 in list1:\n",
    "        if sk1 >= 10:\n",
    "            suma1.append(sk1)\n",
    "    print (suma1)\n",
    "    for sk2 in list2:\n",
    "        if sk2>=10:\n",
    "            suma2.append(sk2)\n",
    "    print(suma2)\n",
    "    return sum(suma1) * sum(suma2)"
   ]
  },
  {
   "cell_type": "code",
   "execution_count": 132,
   "metadata": {},
   "outputs": [
    {
     "name": "stdout",
     "output_type": "stream",
     "text": [
      "[10, 16, 15, 55]\n",
      "[20, 642, 33, 76]\n",
      "74016\n"
     ]
    }
   ],
   "source": [
    "print (function_exercise_3([10,9,6,16,15,55,2,7],[20,642,33,76,9,7,2]))"
   ]
  },
  {
   "cell_type": "markdown",
   "metadata": {},
   "source": [
    "# Lesson 05 - Functions"
   ]
  },
  {
   "cell_type": "code",
   "execution_count": null,
   "metadata": {},
   "outputs": [],
   "source": []
  }
 ],
 "metadata": {
  "interpreter": {
   "hash": "300dc6409ba76354ad2ba64728fb92bcac588e406734ac1d0e0da2eacc6bb35a"
  },
  "kernelspec": {
   "display_name": "Python 3.9.7 64-bit",
   "name": "python3"
  },
  "language_info": {
   "codemirror_mode": {
    "name": "ipython",
    "version": 3
   },
   "file_extension": ".py",
   "mimetype": "text/x-python",
   "name": "python",
   "nbconvert_exporter": "python",
   "pygments_lexer": "ipython3",
   "version": "3.9.7"
  },
  "orig_nbformat": 4
 },
 "nbformat": 4,
 "nbformat_minor": 2
}
