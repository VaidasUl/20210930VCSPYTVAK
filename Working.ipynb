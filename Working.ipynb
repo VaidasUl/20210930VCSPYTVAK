{
 "cells": [
  {
   "cell_type": "markdown",
   "metadata": {},
   "source": [
    "Lesson 01 - string"
   ]
  },
  {
   "cell_type": "code",
   "execution_count": 16,
   "metadata": {},
   "outputs": [
    {
     "name": "stdout",
     "output_type": "stream",
     "text": [
      "33\n",
      "20\n",
      "m\n",
      "labas vakaras, mano vardas vaidas\n",
      "Labas vakaras, mano vardas Vaidas\n"
     ]
    }
   ],
   "source": [
    "tekstas = \"Labas vakaras, mano vardas Vaidas\"\n",
    "print (len(tekstas))\n",
    "print (tekstas.find(\"vardas\"))\n",
    "print (tekstas[15])\n",
    "print (tekstas.lower())\n",
    "print (tekstas)\n",
    "\n",
    "\n"
   ]
  },
  {
   "cell_type": "code",
   "execution_count": 20,
   "metadata": {},
   "outputs": [
    {
     "name": "stdout",
     "output_type": "stream",
     "text": [
      "mano vardas Vaidas, o pavarde Ulenskas\n",
      "Vaidas Ulenskas\n"
     ]
    }
   ],
   "source": [
    "vardas = \"Vaidas\"\n",
    "pavarde = 'Ulenskas'\n",
    "print (f\"mano vardas {vardas}, o pavarde {pavarde}\")\n",
    "print (vardas + \" \" + pavarde)"
   ]
  },
  {
   "cell_type": "code",
   "execution_count": 25,
   "metadata": {},
   "outputs": [
    {
     "name": "stdout",
     "output_type": "stream",
     "text": [
      "PYTHON MAKES ME REALLY REALLY HAPPY\n",
      "PyThOn makes me really really happy\n"
     ]
    }
   ],
   "source": [
    "tekstas = 'Python makes me really really happy'\n",
    "print (tekstas.upper())\n",
    "print (tekstas.replace(\"Python\", \"PyThOn\"))"
   ]
  },
  {
   "cell_type": "code",
   "execution_count": 62,
   "metadata": {},
   "outputs": [
    {
     "name": "stdout",
     "output_type": "stream",
     "text": [
      "happy\n",
      "to\n",
      "39\n",
      "happy\n",
      "happy\n"
     ]
    }
   ],
   "source": [
    "tekstas_2 = 'Hello World, I am happy to learn Python'\n",
    "slice_txt = slice(18,23,1)\n",
    "print (tekstas_2[slice_txt])\n",
    "slice_txt2 = slice(24,26)\n",
    "print (tekstas_2[slice_txt2])\n",
    "print (len(tekstas_2))\n",
    "print (tekstas_2[18:23])\n",
    "word_to_find = 'happy'\n",
    "print (tekstas_2[tekstas_2.index(word_to_find):tekstas_2.index(word_to_find)+len(word_to_find)])"
   ]
  },
  {
   "cell_type": "markdown",
   "metadata": {},
   "source": [
    "Lesson 01 - integer"
   ]
  },
  {
   "cell_type": "code",
   "execution_count": 74,
   "metadata": {},
   "outputs": [
    {
     "name": "stdout",
     "output_type": "stream",
     "text": [
      "5\n",
      "-1\n",
      "6\n",
      "0.6666666666666666\n",
      "2\n",
      "4\n"
     ]
    }
   ],
   "source": [
    "pirmas = 2\n",
    "antras = 3\n",
    "print (pirmas + antras)\n",
    "print (pirmas - antras)\n",
    "print (pirmas * antras)\n",
    "print (pirmas / antras)\n",
    "print (pirmas % antras)\n",
    "print (19 % 5)"
   ]
  },
  {
   "cell_type": "code",
   "execution_count": 75,
   "metadata": {},
   "outputs": [
    {
     "name": "stdout",
     "output_type": "stream",
     "text": [
      "7.92\n",
      "2.3800000000000003\n",
      "14.265500000000001\n",
      "1.8592057761732854\n"
     ]
    }
   ],
   "source": [
    "print (5.15 + 2.77)\n",
    "print (5.15 - 2.77)\n",
    "print (5.15 * 2.77)\n",
    "print (5.15 / 2.77)\n"
   ]
  },
  {
   "cell_type": "code",
   "execution_count": 78,
   "metadata": {},
   "outputs": [
    {
     "name": "stdout",
     "output_type": "stream",
     "text": [
      "atstumu skirtumas yra 390.625\n"
     ]
    }
   ],
   "source": [
    "menulis = 384000\n",
    "saule = 150000000\n",
    "atstumas_1 = saule / menulis\n",
    "print (f'atstumu skirtumas yra {atstumas_1}')\n"
   ]
  },
  {
   "cell_type": "code",
   "execution_count": 80,
   "metadata": {},
   "outputs": [
    {
     "name": "stdout",
     "output_type": "stream",
     "text": [
      "iki menulio vaziuodami 150 km/h nuvaziuotume per 2560.0 valandas\n"
     ]
    }
   ],
   "source": [
    "import datetime\n",
    "greitis = 150 #km/h\n",
    "print (f'iki menulio vaziuodami {greitis} km/h nuvaziuotume per {menulis/greitis} valandas')"
   ]
  },
  {
   "cell_type": "code",
   "execution_count": 81,
   "metadata": {},
   "outputs": [
    {
     "name": "stdout",
     "output_type": "stream",
     "text": [
      "12737 days, 0:00:00\n"
     ]
    }
   ],
   "source": [
    "gimimo_data = datetime.date(1986, 11, 26)\n",
    "dabar = datetime.date(2021,10,10)\n",
    "print (dabar - gimimo_data)"
   ]
  },
  {
   "cell_type": "markdown",
   "metadata": {},
   "source": [
    "lesson 01 - Boolean"
   ]
  },
  {
   "cell_type": "code",
   "execution_count": 89,
   "metadata": {},
   "outputs": [
    {
     "name": "stdout",
     "output_type": "stream",
     "text": [
      "True\n",
      "False\n",
      "False\n",
      "False\n"
     ]
    }
   ],
   "source": [
    "tr1 = 5>3\n",
    "tr2 = 'a' == 'b'\n",
    "tr3 = 5 !=5\n",
    "print(tr1)\n",
    "print(tr2)\n",
    "print(tr3)\n",
    "print (bool(0))"
   ]
  },
  {
   "cell_type": "markdown",
   "metadata": {},
   "source": [
    "lesson 02 - List"
   ]
  },
  {
   "cell_type": "code",
   "execution_count": 108,
   "metadata": {},
   "outputs": [
    {
     "name": "stdout",
     "output_type": "stream",
     "text": [
      "4\n",
      "Ieva\n",
      "2\n",
      "['Vaidas', 'Tomas', 'Ieva', 'Tomas']\n",
      "False\n"
     ]
    }
   ],
   "source": [
    "sarasas_1 = ['Vaidas', 'Tomas', 'Ieva', 'Tomas']\n",
    "print (len(sarasas_1))\n",
    "print (sarasas_1[2])\n",
    "print (sarasas_1.count('Tomas'))\n",
    "print (sarasas_1)\n",
    "print ('Jonas' in sarasas_1)"
   ]
  },
  {
   "cell_type": "code",
   "execution_count": 112,
   "metadata": {},
   "outputs": [
    {
     "name": "stdout",
     "output_type": "stream",
     "text": [
      "6\n",
      "['Vaidas', 'Tomas', 'Ieva', 'Tomas', 'Mykolas', 'Mykolas', 'Mykolas']\n"
     ]
    }
   ],
   "source": [
    "print (len(sarasas_1))\n",
    "sarasas_1.append('Mykolas')\n",
    "print (sarasas_1)"
   ]
  },
  {
   "cell_type": "code",
   "execution_count": 123,
   "metadata": {},
   "outputs": [
    {
     "name": "stdout",
     "output_type": "stream",
     "text": [
      "True\n"
     ]
    }
   ],
   "source": [
    "print ('Mykolas' in sarasas_1)"
   ]
  },
  {
   "cell_type": "code",
   "execution_count": null,
   "metadata": {},
   "outputs": [],
   "source": []
  }
 ],
 "metadata": {
  "interpreter": {
   "hash": "300dc6409ba76354ad2ba64728fb92bcac588e406734ac1d0e0da2eacc6bb35a"
  },
  "kernelspec": {
   "display_name": "Python 3.9.7 64-bit",
   "name": "python3"
  },
  "language_info": {
   "codemirror_mode": {
    "name": "ipython",
    "version": 3
   },
   "file_extension": ".py",
   "mimetype": "text/x-python",
   "name": "python",
   "nbconvert_exporter": "python",
   "pygments_lexer": "ipython3",
   "version": "3.9.7"
  },
  "orig_nbformat": 4
 },
 "nbformat": 4,
 "nbformat_minor": 2
}
