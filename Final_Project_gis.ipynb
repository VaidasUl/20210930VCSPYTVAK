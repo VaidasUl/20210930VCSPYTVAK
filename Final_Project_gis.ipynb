{
 "cells": [
  {
   "cell_type": "code",
   "execution_count": 2677,
   "metadata": {},
   "outputs": [],
   "source": [
    "import os\n",
    "import pandas as pd"
   ]
  },
  {
   "cell_type": "code",
   "execution_count": 2678,
   "metadata": {},
   "outputs": [
    {
     "data": {
      "text/plain": [
       "'C:\\\\My Documents\\\\Mokymai ir kt info\\\\Python\\\\10_Final_Project'"
      ]
     },
     "execution_count": 2678,
     "metadata": {},
     "output_type": "execute_result"
    }
   ],
   "source": [
    "os.chdir('C:/My Documents/Mokymai ir kt info/Python/10_Final_Project')\n",
    "os.getcwd()"
   ]
  },
  {
   "cell_type": "markdown",
   "metadata": {},
   "source": [
    "# Main GIS Table"
   ]
  },
  {
   "cell_type": "code",
   "execution_count": 2679,
   "metadata": {},
   "outputs": [],
   "source": [
    "read_gis_file = pd.read_excel('GIS_DB/CS_GIS_DATA.xlsx')\n",
    "read_gis_file.to_csv('GIS_DB/CS_GIS_DATA.csv', index = None, header = True)\n",
    "df_gis = pd.read_csv('GIS_DB/CS_GIS_DATA.csv', parse_dates=['Start', 'Finish'])"
   ]
  },
  {
   "cell_type": "code",
   "execution_count": 2680,
   "metadata": {},
   "outputs": [
    {
     "name": "stdout",
     "output_type": "stream",
     "text": [
      "<class 'pandas.core.frame.DataFrame'>\n",
      "RangeIndex: 112 entries, 0 to 111\n",
      "Data columns (total 7 columns):\n",
      " #   Column                  Non-Null Count  Dtype         \n",
      "---  ------                  --------------  -----         \n",
      " 0   Activity ID             112 non-null    object        \n",
      " 1   Activity Name           112 non-null    object        \n",
      " 2   Start                   108 non-null    datetime64[ns]\n",
      " 3   Finish                  112 non-null    datetime64[ns]\n",
      " 4   At Completion Duration  112 non-null    int64         \n",
      " 5   CS ID                   112 non-null    object        \n",
      " 6   Stages                  112 non-null    object        \n",
      "dtypes: datetime64[ns](2), int64(1), object(4)\n",
      "memory usage: 6.2+ KB\n"
     ]
    }
   ],
   "source": [
    "df_gis.info()"
   ]
  },
  {
   "cell_type": "code",
   "execution_count": 2681,
   "metadata": {},
   "outputs": [
    {
     "data": {
      "text/html": [
       "<div>\n",
       "<style scoped>\n",
       "    .dataframe tbody tr th:only-of-type {\n",
       "        vertical-align: middle;\n",
       "    }\n",
       "\n",
       "    .dataframe tbody tr th {\n",
       "        vertical-align: top;\n",
       "    }\n",
       "\n",
       "    .dataframe thead th {\n",
       "        text-align: right;\n",
       "    }\n",
       "</style>\n",
       "<table border=\"1\" class=\"dataframe\">\n",
       "  <thead>\n",
       "    <tr style=\"text-align: right;\">\n",
       "      <th></th>\n",
       "      <th>Activity ID</th>\n",
       "      <th>Activity Name</th>\n",
       "      <th>Start</th>\n",
       "      <th>Finish</th>\n",
       "      <th>At Completion Duration</th>\n",
       "      <th>CS ID</th>\n",
       "      <th>Stages</th>\n",
       "    </tr>\n",
       "  </thead>\n",
       "  <tbody>\n",
       "    <tr>\n",
       "      <th>0</th>\n",
       "      <td>A1330160</td>\n",
       "      <td>Name 1</td>\n",
       "      <td>2022-09-13</td>\n",
       "      <td>2024-05-31</td>\n",
       "      <td>433</td>\n",
       "      <td>CS6992</td>\n",
       "      <td>SCO.ROA</td>\n",
       "    </tr>\n",
       "    <tr>\n",
       "      <th>1</th>\n",
       "      <td>A1330170</td>\n",
       "      <td>Name 2</td>\n",
       "      <td>2022-09-13</td>\n",
       "      <td>2024-05-31</td>\n",
       "      <td>433</td>\n",
       "      <td>CS6881</td>\n",
       "      <td>SCO.ROA</td>\n",
       "    </tr>\n",
       "    <tr>\n",
       "      <th>2</th>\n",
       "      <td>A1330180</td>\n",
       "      <td>Name 3</td>\n",
       "      <td>2020-01-01</td>\n",
       "      <td>2020-01-01</td>\n",
       "      <td>433</td>\n",
       "      <td>CS6733</td>\n",
       "      <td>SCO.ROA</td>\n",
       "    </tr>\n",
       "    <tr>\n",
       "      <th>3</th>\n",
       "      <td>A1330190</td>\n",
       "      <td>Name 4</td>\n",
       "      <td>2020-01-01</td>\n",
       "      <td>2020-01-01</td>\n",
       "      <td>433</td>\n",
       "      <td>CS6672</td>\n",
       "      <td>SCO.ROA</td>\n",
       "    </tr>\n",
       "    <tr>\n",
       "      <th>4</th>\n",
       "      <td>A1330200</td>\n",
       "      <td>Name 5</td>\n",
       "      <td>2020-01-01</td>\n",
       "      <td>2020-01-01</td>\n",
       "      <td>433</td>\n",
       "      <td>CS6563</td>\n",
       "      <td>SCO.ROA</td>\n",
       "    </tr>\n",
       "  </tbody>\n",
       "</table>\n",
       "</div>"
      ],
      "text/plain": [
       "  Activity ID Activity Name      Start     Finish  At Completion Duration  \\\n",
       "0    A1330160        Name 1 2022-09-13 2024-05-31                     433   \n",
       "1    A1330170        Name 2 2022-09-13 2024-05-31                     433   \n",
       "2    A1330180        Name 3 2020-01-01 2020-01-01                     433   \n",
       "3    A1330190        Name 4 2020-01-01 2020-01-01                     433   \n",
       "4    A1330200        Name 5 2020-01-01 2020-01-01                     433   \n",
       "\n",
       "    CS ID   Stages  \n",
       "0  CS6992  SCO.ROA  \n",
       "1  CS6881  SCO.ROA  \n",
       "2  CS6733  SCO.ROA  \n",
       "3  CS6672  SCO.ROA  \n",
       "4  CS6563  SCO.ROA  "
      ]
     },
     "execution_count": 2681,
     "metadata": {},
     "output_type": "execute_result"
    }
   ],
   "source": [
    "df_gis.head()"
   ]
  },
  {
   "cell_type": "markdown",
   "metadata": {},
   "source": [
    "# Clean Weekly Data update table"
   ]
  },
  {
   "cell_type": "code",
   "execution_count": 2682,
   "metadata": {},
   "outputs": [],
   "source": [
    "read_gis_file_update = pd.read_excel('Input/CS_Update_01_11_2021.xlsx', sheet_name= 1)\n",
    "read_gis_file_update.to_csv('Input/CS_Update_01_11_2021.csv', index = None, header = True)\n",
    "df_gis_update = pd.read_csv('Input/CS_Update_01_11_2021.csv')"
   ]
  },
  {
   "cell_type": "code",
   "execution_count": 2683,
   "metadata": {},
   "outputs": [
    {
     "name": "stdout",
     "output_type": "stream",
     "text": [
      "<class 'pandas.core.frame.DataFrame'>\n",
      "RangeIndex: 112 entries, 0 to 111\n",
      "Data columns (total 7 columns):\n",
      " #   Column                  Non-Null Count  Dtype \n",
      "---  ------                  --------------  ----- \n",
      " 0   Activity ID             112 non-null    object\n",
      " 1   Activity Name           112 non-null    object\n",
      " 2   Start                   108 non-null    object\n",
      " 3   Finish                  112 non-null    object\n",
      " 4   At Completion Duration  112 non-null    object\n",
      " 5   CS ID                   112 non-null    object\n",
      " 6   Stages                  112 non-null    object\n",
      "dtypes: object(7)\n",
      "memory usage: 6.2+ KB\n"
     ]
    }
   ],
   "source": [
    "df_gis_update.info()"
   ]
  },
  {
   "cell_type": "code",
   "execution_count": 2684,
   "metadata": {},
   "outputs": [
    {
     "data": {
      "text/html": [
       "<div>\n",
       "<style scoped>\n",
       "    .dataframe tbody tr th:only-of-type {\n",
       "        vertical-align: middle;\n",
       "    }\n",
       "\n",
       "    .dataframe tbody tr th {\n",
       "        vertical-align: top;\n",
       "    }\n",
       "\n",
       "    .dataframe thead th {\n",
       "        text-align: right;\n",
       "    }\n",
       "</style>\n",
       "<table border=\"1\" class=\"dataframe\">\n",
       "  <thead>\n",
       "    <tr style=\"text-align: right;\">\n",
       "      <th></th>\n",
       "      <th>Activity ID</th>\n",
       "      <th>Activity Name</th>\n",
       "      <th>Start</th>\n",
       "      <th>Finish</th>\n",
       "      <th>At Completion Duration</th>\n",
       "      <th>CS ID</th>\n",
       "      <th>Stages</th>\n",
       "    </tr>\n",
       "  </thead>\n",
       "  <tbody>\n",
       "    <tr>\n",
       "      <th>0</th>\n",
       "      <td>A1330160</td>\n",
       "      <td>Name 1</td>\n",
       "      <td>13-Sep-22</td>\n",
       "      <td>31-May-24</td>\n",
       "      <td>433d</td>\n",
       "      <td>CS6992</td>\n",
       "      <td>SCO.ROA</td>\n",
       "    </tr>\n",
       "    <tr>\n",
       "      <th>1</th>\n",
       "      <td>A1330170</td>\n",
       "      <td>Name 2</td>\n",
       "      <td>13-Sep-22 A</td>\n",
       "      <td>31-May-24</td>\n",
       "      <td>433d</td>\n",
       "      <td>CS6881</td>\n",
       "      <td>SCO.ROA</td>\n",
       "    </tr>\n",
       "    <tr>\n",
       "      <th>2</th>\n",
       "      <td>A1330180</td>\n",
       "      <td>Name 3</td>\n",
       "      <td>02-Dec-21</td>\n",
       "      <td>22-Aug-23</td>\n",
       "      <td>433d</td>\n",
       "      <td>CS6733</td>\n",
       "      <td>SCO.ROA</td>\n",
       "    </tr>\n",
       "    <tr>\n",
       "      <th>3</th>\n",
       "      <td>A1330190</td>\n",
       "      <td>Name 4</td>\n",
       "      <td>02-Dec-21</td>\n",
       "      <td>22-Aug-23</td>\n",
       "      <td>433d</td>\n",
       "      <td>CS6672</td>\n",
       "      <td>SCO.ROA</td>\n",
       "    </tr>\n",
       "    <tr>\n",
       "      <th>4</th>\n",
       "      <td>A1330200</td>\n",
       "      <td>Name 5</td>\n",
       "      <td>04-Jan-23</td>\n",
       "      <td>23-Sep-24</td>\n",
       "      <td>433d</td>\n",
       "      <td>CS6563</td>\n",
       "      <td>SCO.ROA</td>\n",
       "    </tr>\n",
       "  </tbody>\n",
       "</table>\n",
       "</div>"
      ],
      "text/plain": [
       "  Activity ID Activity Name        Start     Finish At Completion Duration  \\\n",
       "0    A1330160        Name 1    13-Sep-22  31-May-24                   433d   \n",
       "1    A1330170        Name 2  13-Sep-22 A  31-May-24                   433d   \n",
       "2    A1330180        Name 3    02-Dec-21  22-Aug-23                   433d   \n",
       "3    A1330190        Name 4    02-Dec-21  22-Aug-23                   433d   \n",
       "4    A1330200        Name 5    04-Jan-23  23-Sep-24                   433d   \n",
       "\n",
       "    CS ID   Stages  \n",
       "0  CS6992  SCO.ROA  \n",
       "1  CS6881  SCO.ROA  \n",
       "2  CS6733  SCO.ROA  \n",
       "3  CS6672  SCO.ROA  \n",
       "4  CS6563  SCO.ROA  "
      ]
     },
     "execution_count": 2684,
     "metadata": {},
     "output_type": "execute_result"
    }
   ],
   "source": [
    "df_gis_update.head()"
   ]
  },
  {
   "cell_type": "code",
   "execution_count": 2685,
   "metadata": {},
   "outputs": [],
   "source": [
    "df_gis_update['Start'] = df_gis_update['Start'].str[:9]\n",
    "df_gis_update['Finish'] = df_gis_update['Finish'].str[:9]\n",
    "df_gis_update['At Completion Duration'] = df_gis_update['At Completion Duration'].str.replace('d','')"
   ]
  },
  {
   "cell_type": "code",
   "execution_count": 2686,
   "metadata": {},
   "outputs": [
    {
     "data": {
      "text/html": [
       "<div>\n",
       "<style scoped>\n",
       "    .dataframe tbody tr th:only-of-type {\n",
       "        vertical-align: middle;\n",
       "    }\n",
       "\n",
       "    .dataframe tbody tr th {\n",
       "        vertical-align: top;\n",
       "    }\n",
       "\n",
       "    .dataframe thead th {\n",
       "        text-align: right;\n",
       "    }\n",
       "</style>\n",
       "<table border=\"1\" class=\"dataframe\">\n",
       "  <thead>\n",
       "    <tr style=\"text-align: right;\">\n",
       "      <th></th>\n",
       "      <th>Activity ID</th>\n",
       "      <th>Activity Name</th>\n",
       "      <th>Start</th>\n",
       "      <th>Finish</th>\n",
       "      <th>At Completion Duration</th>\n",
       "      <th>CS ID</th>\n",
       "      <th>Stages</th>\n",
       "    </tr>\n",
       "  </thead>\n",
       "  <tbody>\n",
       "    <tr>\n",
       "      <th>0</th>\n",
       "      <td>A1330160</td>\n",
       "      <td>Name 1</td>\n",
       "      <td>13-Sep-22</td>\n",
       "      <td>31-May-24</td>\n",
       "      <td>433</td>\n",
       "      <td>CS6992</td>\n",
       "      <td>SCO.ROA</td>\n",
       "    </tr>\n",
       "    <tr>\n",
       "      <th>1</th>\n",
       "      <td>A1330170</td>\n",
       "      <td>Name 2</td>\n",
       "      <td>13-Sep-22</td>\n",
       "      <td>31-May-24</td>\n",
       "      <td>433</td>\n",
       "      <td>CS6881</td>\n",
       "      <td>SCO.ROA</td>\n",
       "    </tr>\n",
       "    <tr>\n",
       "      <th>2</th>\n",
       "      <td>A1330180</td>\n",
       "      <td>Name 3</td>\n",
       "      <td>02-Dec-21</td>\n",
       "      <td>22-Aug-23</td>\n",
       "      <td>433</td>\n",
       "      <td>CS6733</td>\n",
       "      <td>SCO.ROA</td>\n",
       "    </tr>\n",
       "    <tr>\n",
       "      <th>3</th>\n",
       "      <td>A1330190</td>\n",
       "      <td>Name 4</td>\n",
       "      <td>02-Dec-21</td>\n",
       "      <td>22-Aug-23</td>\n",
       "      <td>433</td>\n",
       "      <td>CS6672</td>\n",
       "      <td>SCO.ROA</td>\n",
       "    </tr>\n",
       "    <tr>\n",
       "      <th>4</th>\n",
       "      <td>A1330200</td>\n",
       "      <td>Name 5</td>\n",
       "      <td>04-Jan-23</td>\n",
       "      <td>23-Sep-24</td>\n",
       "      <td>433</td>\n",
       "      <td>CS6563</td>\n",
       "      <td>SCO.ROA</td>\n",
       "    </tr>\n",
       "  </tbody>\n",
       "</table>\n",
       "</div>"
      ],
      "text/plain": [
       "  Activity ID Activity Name      Start     Finish At Completion Duration  \\\n",
       "0    A1330160        Name 1  13-Sep-22  31-May-24                    433   \n",
       "1    A1330170        Name 2  13-Sep-22  31-May-24                    433   \n",
       "2    A1330180        Name 3  02-Dec-21  22-Aug-23                    433   \n",
       "3    A1330190        Name 4  02-Dec-21  22-Aug-23                    433   \n",
       "4    A1330200        Name 5  04-Jan-23  23-Sep-24                    433   \n",
       "\n",
       "    CS ID   Stages  \n",
       "0  CS6992  SCO.ROA  \n",
       "1  CS6881  SCO.ROA  \n",
       "2  CS6733  SCO.ROA  \n",
       "3  CS6672  SCO.ROA  \n",
       "4  CS6563  SCO.ROA  "
      ]
     },
     "execution_count": 2686,
     "metadata": {},
     "output_type": "execute_result"
    }
   ],
   "source": [
    "df_gis_update.head()"
   ]
  },
  {
   "cell_type": "code",
   "execution_count": 2687,
   "metadata": {},
   "outputs": [],
   "source": [
    "df_gis_update.to_csv('Input/CS_Update_01_11_2021.csv')"
   ]
  },
  {
   "cell_type": "code",
   "execution_count": 2688,
   "metadata": {},
   "outputs": [
    {
     "data": {
      "text/html": [
       "<div>\n",
       "<style scoped>\n",
       "    .dataframe tbody tr th:only-of-type {\n",
       "        vertical-align: middle;\n",
       "    }\n",
       "\n",
       "    .dataframe tbody tr th {\n",
       "        vertical-align: top;\n",
       "    }\n",
       "\n",
       "    .dataframe thead th {\n",
       "        text-align: right;\n",
       "    }\n",
       "</style>\n",
       "<table border=\"1\" class=\"dataframe\">\n",
       "  <thead>\n",
       "    <tr style=\"text-align: right;\">\n",
       "      <th></th>\n",
       "      <th>Unnamed: 0</th>\n",
       "      <th>Activity ID</th>\n",
       "      <th>Activity Name</th>\n",
       "      <th>Start</th>\n",
       "      <th>Finish</th>\n",
       "      <th>At Completion Duration</th>\n",
       "      <th>CS ID</th>\n",
       "      <th>Stages</th>\n",
       "    </tr>\n",
       "  </thead>\n",
       "  <tbody>\n",
       "    <tr>\n",
       "      <th>0</th>\n",
       "      <td>0</td>\n",
       "      <td>A1330160</td>\n",
       "      <td>Name 1</td>\n",
       "      <td>2022-09-13</td>\n",
       "      <td>2024-05-31</td>\n",
       "      <td>433</td>\n",
       "      <td>CS6992</td>\n",
       "      <td>SCO.ROA</td>\n",
       "    </tr>\n",
       "    <tr>\n",
       "      <th>1</th>\n",
       "      <td>1</td>\n",
       "      <td>A1330170</td>\n",
       "      <td>Name 2</td>\n",
       "      <td>2022-09-13</td>\n",
       "      <td>2024-05-31</td>\n",
       "      <td>433</td>\n",
       "      <td>CS6881</td>\n",
       "      <td>SCO.ROA</td>\n",
       "    </tr>\n",
       "    <tr>\n",
       "      <th>2</th>\n",
       "      <td>2</td>\n",
       "      <td>A1330180</td>\n",
       "      <td>Name 3</td>\n",
       "      <td>2021-12-02</td>\n",
       "      <td>2023-08-22</td>\n",
       "      <td>433</td>\n",
       "      <td>CS6733</td>\n",
       "      <td>SCO.ROA</td>\n",
       "    </tr>\n",
       "    <tr>\n",
       "      <th>3</th>\n",
       "      <td>3</td>\n",
       "      <td>A1330190</td>\n",
       "      <td>Name 4</td>\n",
       "      <td>2021-12-02</td>\n",
       "      <td>2023-08-22</td>\n",
       "      <td>433</td>\n",
       "      <td>CS6672</td>\n",
       "      <td>SCO.ROA</td>\n",
       "    </tr>\n",
       "    <tr>\n",
       "      <th>4</th>\n",
       "      <td>4</td>\n",
       "      <td>A1330200</td>\n",
       "      <td>Name 5</td>\n",
       "      <td>2023-01-04</td>\n",
       "      <td>2024-09-23</td>\n",
       "      <td>433</td>\n",
       "      <td>CS6563</td>\n",
       "      <td>SCO.ROA</td>\n",
       "    </tr>\n",
       "  </tbody>\n",
       "</table>\n",
       "</div>"
      ],
      "text/plain": [
       "   Unnamed: 0 Activity ID Activity Name      Start     Finish  \\\n",
       "0           0    A1330160        Name 1 2022-09-13 2024-05-31   \n",
       "1           1    A1330170        Name 2 2022-09-13 2024-05-31   \n",
       "2           2    A1330180        Name 3 2021-12-02 2023-08-22   \n",
       "3           3    A1330190        Name 4 2021-12-02 2023-08-22   \n",
       "4           4    A1330200        Name 5 2023-01-04 2024-09-23   \n",
       "\n",
       "   At Completion Duration   CS ID   Stages  \n",
       "0                     433  CS6992  SCO.ROA  \n",
       "1                     433  CS6881  SCO.ROA  \n",
       "2                     433  CS6733  SCO.ROA  \n",
       "3                     433  CS6672  SCO.ROA  \n",
       "4                     433  CS6563  SCO.ROA  "
      ]
     },
     "execution_count": 2688,
     "metadata": {},
     "output_type": "execute_result"
    }
   ],
   "source": [
    "df_gis_update = pd.read_csv('Input/CS_Update_01_11_2021.csv', parse_dates=['Start', 'Finish'])\n",
    "df_gis_update.head()"
   ]
  },
  {
   "cell_type": "code",
   "execution_count": 2689,
   "metadata": {},
   "outputs": [],
   "source": [
    "df_gis_update.drop('Unnamed: 0', axis='columns', inplace=True)"
   ]
  },
  {
   "cell_type": "code",
   "execution_count": 2690,
   "metadata": {},
   "outputs": [
    {
     "data": {
      "text/html": [
       "<div>\n",
       "<style scoped>\n",
       "    .dataframe tbody tr th:only-of-type {\n",
       "        vertical-align: middle;\n",
       "    }\n",
       "\n",
       "    .dataframe tbody tr th {\n",
       "        vertical-align: top;\n",
       "    }\n",
       "\n",
       "    .dataframe thead th {\n",
       "        text-align: right;\n",
       "    }\n",
       "</style>\n",
       "<table border=\"1\" class=\"dataframe\">\n",
       "  <thead>\n",
       "    <tr style=\"text-align: right;\">\n",
       "      <th></th>\n",
       "      <th>Activity ID</th>\n",
       "      <th>Activity Name</th>\n",
       "      <th>Start</th>\n",
       "      <th>Finish</th>\n",
       "      <th>At Completion Duration</th>\n",
       "      <th>CS ID</th>\n",
       "      <th>Stages</th>\n",
       "    </tr>\n",
       "  </thead>\n",
       "  <tbody>\n",
       "    <tr>\n",
       "      <th>0</th>\n",
       "      <td>A1330160</td>\n",
       "      <td>Name 1</td>\n",
       "      <td>2022-09-13</td>\n",
       "      <td>2024-05-31</td>\n",
       "      <td>433</td>\n",
       "      <td>CS6992</td>\n",
       "      <td>SCO.ROA</td>\n",
       "    </tr>\n",
       "    <tr>\n",
       "      <th>1</th>\n",
       "      <td>A1330170</td>\n",
       "      <td>Name 2</td>\n",
       "      <td>2022-09-13</td>\n",
       "      <td>2024-05-31</td>\n",
       "      <td>433</td>\n",
       "      <td>CS6881</td>\n",
       "      <td>SCO.ROA</td>\n",
       "    </tr>\n",
       "  </tbody>\n",
       "</table>\n",
       "</div>"
      ],
      "text/plain": [
       "  Activity ID Activity Name      Start     Finish  At Completion Duration  \\\n",
       "0    A1330160        Name 1 2022-09-13 2024-05-31                     433   \n",
       "1    A1330170        Name 2 2022-09-13 2024-05-31                     433   \n",
       "\n",
       "    CS ID   Stages  \n",
       "0  CS6992  SCO.ROA  \n",
       "1  CS6881  SCO.ROA  "
      ]
     },
     "execution_count": 2690,
     "metadata": {},
     "output_type": "execute_result"
    }
   ],
   "source": [
    "df_gis_update.head(2)"
   ]
  },
  {
   "cell_type": "code",
   "execution_count": 2691,
   "metadata": {},
   "outputs": [
    {
     "name": "stdout",
     "output_type": "stream",
     "text": [
      "<class 'pandas.core.frame.DataFrame'>\n",
      "RangeIndex: 112 entries, 0 to 111\n",
      "Data columns (total 7 columns):\n",
      " #   Column                  Non-Null Count  Dtype         \n",
      "---  ------                  --------------  -----         \n",
      " 0   Activity ID             112 non-null    object        \n",
      " 1   Activity Name           112 non-null    object        \n",
      " 2   Start                   108 non-null    datetime64[ns]\n",
      " 3   Finish                  112 non-null    datetime64[ns]\n",
      " 4   At Completion Duration  112 non-null    int64         \n",
      " 5   CS ID                   112 non-null    object        \n",
      " 6   Stages                  112 non-null    object        \n",
      "dtypes: datetime64[ns](2), int64(1), object(4)\n",
      "memory usage: 6.2+ KB\n"
     ]
    }
   ],
   "source": [
    "df_gis_update.info()"
   ]
  },
  {
   "cell_type": "markdown",
   "metadata": {},
   "source": [
    "# Compare CSV's"
   ]
  },
  {
   "cell_type": "code",
   "execution_count": 2692,
   "metadata": {},
   "outputs": [],
   "source": [
    "df_gis_update['act_cs_id'] = (df_gis_update['Activity ID'] +\"/\"+ df_gis_update['CS ID'])\n",
    "df_gis['act_cs_id'] = (df_gis['Activity ID'] +\"/\"+ df_gis['CS ID'])"
   ]
  },
  {
   "cell_type": "code",
   "execution_count": 2693,
   "metadata": {},
   "outputs": [
    {
     "data": {
      "text/html": [
       "<div>\n",
       "<style scoped>\n",
       "    .dataframe tbody tr th:only-of-type {\n",
       "        vertical-align: middle;\n",
       "    }\n",
       "\n",
       "    .dataframe tbody tr th {\n",
       "        vertical-align: top;\n",
       "    }\n",
       "\n",
       "    .dataframe thead th {\n",
       "        text-align: right;\n",
       "    }\n",
       "</style>\n",
       "<table border=\"1\" class=\"dataframe\">\n",
       "  <thead>\n",
       "    <tr style=\"text-align: right;\">\n",
       "      <th></th>\n",
       "      <th>Activity ID</th>\n",
       "      <th>Activity Name</th>\n",
       "      <th>Start</th>\n",
       "      <th>Finish</th>\n",
       "      <th>At Completion Duration</th>\n",
       "      <th>CS ID</th>\n",
       "      <th>Stages</th>\n",
       "      <th>act_cs_id</th>\n",
       "    </tr>\n",
       "  </thead>\n",
       "  <tbody>\n",
       "    <tr>\n",
       "      <th>0</th>\n",
       "      <td>A1330160</td>\n",
       "      <td>Name 1</td>\n",
       "      <td>2022-09-13</td>\n",
       "      <td>2024-05-31</td>\n",
       "      <td>433</td>\n",
       "      <td>CS6992</td>\n",
       "      <td>SCO.ROA</td>\n",
       "      <td>A1330160/CS6992</td>\n",
       "    </tr>\n",
       "    <tr>\n",
       "      <th>1</th>\n",
       "      <td>A1330170</td>\n",
       "      <td>Name 2</td>\n",
       "      <td>2022-09-13</td>\n",
       "      <td>2024-05-31</td>\n",
       "      <td>433</td>\n",
       "      <td>CS6881</td>\n",
       "      <td>SCO.ROA</td>\n",
       "      <td>A1330170/CS6881</td>\n",
       "    </tr>\n",
       "  </tbody>\n",
       "</table>\n",
       "</div>"
      ],
      "text/plain": [
       "  Activity ID Activity Name      Start     Finish  At Completion Duration  \\\n",
       "0    A1330160        Name 1 2022-09-13 2024-05-31                     433   \n",
       "1    A1330170        Name 2 2022-09-13 2024-05-31                     433   \n",
       "\n",
       "    CS ID   Stages        act_cs_id  \n",
       "0  CS6992  SCO.ROA  A1330160/CS6992  \n",
       "1  CS6881  SCO.ROA  A1330170/CS6881  "
      ]
     },
     "execution_count": 2693,
     "metadata": {},
     "output_type": "execute_result"
    }
   ],
   "source": [
    "df_gis_update.head(2)"
   ]
  },
  {
   "cell_type": "code",
   "execution_count": 2694,
   "metadata": {},
   "outputs": [
    {
     "data": {
      "text/html": [
       "<div>\n",
       "<style scoped>\n",
       "    .dataframe tbody tr th:only-of-type {\n",
       "        vertical-align: middle;\n",
       "    }\n",
       "\n",
       "    .dataframe tbody tr th {\n",
       "        vertical-align: top;\n",
       "    }\n",
       "\n",
       "    .dataframe thead th {\n",
       "        text-align: right;\n",
       "    }\n",
       "</style>\n",
       "<table border=\"1\" class=\"dataframe\">\n",
       "  <thead>\n",
       "    <tr style=\"text-align: right;\">\n",
       "      <th></th>\n",
       "      <th>Activity ID</th>\n",
       "      <th>Activity Name</th>\n",
       "      <th>Start</th>\n",
       "      <th>Finish</th>\n",
       "      <th>At Completion Duration</th>\n",
       "      <th>CS ID</th>\n",
       "      <th>Stages</th>\n",
       "      <th>act_cs_id</th>\n",
       "    </tr>\n",
       "  </thead>\n",
       "  <tbody>\n",
       "    <tr>\n",
       "      <th>0</th>\n",
       "      <td>A1330160</td>\n",
       "      <td>Name 1</td>\n",
       "      <td>2022-09-13</td>\n",
       "      <td>2024-05-31</td>\n",
       "      <td>433</td>\n",
       "      <td>CS6992</td>\n",
       "      <td>SCO.ROA</td>\n",
       "      <td>A1330160/CS6992</td>\n",
       "    </tr>\n",
       "    <tr>\n",
       "      <th>1</th>\n",
       "      <td>A1330170</td>\n",
       "      <td>Name 2</td>\n",
       "      <td>2022-09-13</td>\n",
       "      <td>2024-05-31</td>\n",
       "      <td>433</td>\n",
       "      <td>CS6881</td>\n",
       "      <td>SCO.ROA</td>\n",
       "      <td>A1330170/CS6881</td>\n",
       "    </tr>\n",
       "  </tbody>\n",
       "</table>\n",
       "</div>"
      ],
      "text/plain": [
       "  Activity ID Activity Name      Start     Finish  At Completion Duration  \\\n",
       "0    A1330160        Name 1 2022-09-13 2024-05-31                     433   \n",
       "1    A1330170        Name 2 2022-09-13 2024-05-31                     433   \n",
       "\n",
       "    CS ID   Stages        act_cs_id  \n",
       "0  CS6992  SCO.ROA  A1330160/CS6992  \n",
       "1  CS6881  SCO.ROA  A1330170/CS6881  "
      ]
     },
     "execution_count": 2694,
     "metadata": {},
     "output_type": "execute_result"
    }
   ],
   "source": [
    "df_gis.head(2)"
   ]
  },
  {
   "cell_type": "code",
   "execution_count": 2695,
   "metadata": {},
   "outputs": [
    {
     "data": {
      "text/html": [
       "<div>\n",
       "<style scoped>\n",
       "    .dataframe tbody tr th:only-of-type {\n",
       "        vertical-align: middle;\n",
       "    }\n",
       "\n",
       "    .dataframe tbody tr th {\n",
       "        vertical-align: top;\n",
       "    }\n",
       "\n",
       "    .dataframe thead th {\n",
       "        text-align: right;\n",
       "    }\n",
       "</style>\n",
       "<table border=\"1\" class=\"dataframe\">\n",
       "  <thead>\n",
       "    <tr style=\"text-align: right;\">\n",
       "      <th></th>\n",
       "      <th>Activity ID</th>\n",
       "      <th>Activity Name</th>\n",
       "      <th>Start</th>\n",
       "      <th>Finish</th>\n",
       "      <th>At Completion Duration</th>\n",
       "      <th>CS ID</th>\n",
       "      <th>Stages</th>\n",
       "      <th>act_cs_id</th>\n",
       "    </tr>\n",
       "  </thead>\n",
       "  <tbody>\n",
       "  </tbody>\n",
       "</table>\n",
       "</div>"
      ],
      "text/plain": [
       "Empty DataFrame\n",
       "Columns: [Activity ID, Activity Name, Start, Finish, At Completion Duration, CS ID, Stages, act_cs_id]\n",
       "Index: []"
      ]
     },
     "execution_count": 2695,
     "metadata": {},
     "output_type": "execute_result"
    }
   ],
   "source": [
    "updvsorg = df_gis_update[~df_gis_update.act_cs_id.isin(df_gis.act_cs_id)]\n",
    "orgvsupd = df_gis[~df_gis.act_cs_id.isin(df_gis_update.act_cs_id)]\n",
    "updvsorg\n",
    "\n",
    "orgvsupd"
   ]
  },
  {
   "cell_type": "code",
   "execution_count": 2696,
   "metadata": {},
   "outputs": [
    {
     "name": "stdout",
     "output_type": "stream",
     "text": [
      "ID kodai ir objektu skaicius abejose lentelese sutampa. Viso objektu yra 112. Duomenys tinkami atnaujinimui\n"
     ]
    }
   ],
   "source": [
    "def patikra(updvsorg, orgvsupd):\n",
    "    updvsorg = df_gis_update[~df_gis_update.act_cs_id.isin(df_gis.act_cs_id)]\n",
    "    orgvsupd = df_gis[~df_gis.act_cs_id.isin(df_gis_update.act_cs_id)]\n",
    "    if df_gis_update.act_cs_id.nunique() == len(df_gis_update.act_cs_id):\n",
    "        if updvsorg.empty and orgvsupd.empty:\n",
    "            return f'ID kodai ir objektu skaicius abejose lentelese sutampa. Viso objektu yra {df_gis_update.act_cs_id.nunique()}. \\\n",
    "Duomenys tinkami atnaujinimui'\n",
    "        elif len(updvsorg) > 0 and orgvsupd.empty:\n",
    "            return f'ERROR: Rasti nauji objektai ({len(updvsorg)} vnt.), kuriu nera GIS DB. \\n{updvsorg}'\n",
    "        elif len(orgvsupd) > 0 and updvsorg.empty:\n",
    "            return f'ERROR: Atnaujinamoje lenteleje truksta objektu esanciu GIS DB ({len(orgvsupd)} vnt.). \\n{orgvsupd}'\n",
    "        elif len(updvsorg) > 0 and len(orgvsupd) > 0:\n",
    "            return f'ERROR: Galimos klaidos:Nnatitinka ID/atsirado nauju objektu/objektai istrinti. \\n \\\n",
    "Objektai, kuriu nera GIS DB:\\n {updvsorg}\\n Objektai, kuriu nera atnaujinamoje lenteleje \\n{orgvsupd}'\n",
    "    else:\n",
    "        return 'ERROR: ID reiksmes negali kartotis'\n",
    "\n",
    "print (patikra(updvsorg, orgvsupd))"
   ]
  },
  {
   "cell_type": "code",
   "execution_count": null,
   "metadata": {},
   "outputs": [],
   "source": []
  },
  {
   "cell_type": "code",
   "execution_count": 2697,
   "metadata": {},
   "outputs": [
    {
     "ename": "IndentationError",
     "evalue": "unexpected indent (Temp/ipykernel_11004/2606455982.py, line 2)",
     "output_type": "error",
     "traceback": [
      "\u001b[1;36m  File \u001b[1;32m\"C:\\Users\\VARTOT~1\\AppData\\Local\\Temp/ipykernel_11004/2606455982.py\"\u001b[1;36m, line \u001b[1;32m2\u001b[0m\n\u001b[1;33m    updvsorg = df_gis_update[~df_gis_update.act_cs_id.isin(df_gis.act_cs_id)]\u001b[0m\n\u001b[1;37m    ^\u001b[0m\n\u001b[1;31mIndentationError\u001b[0m\u001b[1;31m:\u001b[0m unexpected indent\n"
     ]
    }
   ],
   "source": [
    "#def patikra2(updvsorg, orgvsupd):\n",
    "    updvsorg = df_gis_update[~df_gis_update.act_cs_id.isin(df_gis.act_cs_id)]\n",
    "    orgvsupd = df_gis[~df_gis.act_cs_id.isin(df_gis_update.act_cs_id)]\n",
    "    if df_gis_update.act_cs_id.nunique() == len(df_gis_update.act_cs_id):\n",
    "        if updvsorg.empty and orgvsupd.empty:\n",
    "            return f'ID kodai ir objektu skaicius abejose lentelese sutampa. Viso objektu yra {df_gis_update.act_cs_id.nunique()}. Duomenys tinkami atnaujinimui'\n",
    "        elif len(updvsorg) > 0: # and orgvsupd.empty:\n",
    "            if len(updvsorg) > 0 and len(orgvsupd) > 0:\n",
    "                return f'ERROR: Neatitinka kodai esantys abejose lentelese. \\n Atnaujinimu lentele:\\n {updvsorg}\\n GIS lentele \\n{orgvsupd}'\n",
    "            else:\n",
    "                return f'ERROR: Rasti nauji objektai ({len(updvsorg)}). Detalus sarasas pateiktas zemiau \\n{updvsorg}'\n",
    "        elif len(orgvsupd) > 0 and updvsorg.empty:\n",
    "            return f'ERROR: Truksta objektu ({len(orgvsupd)}). Detalus sarasas pateiktas zemiau \\n{orgvsupd}'\n",
    "        elif len(updvsorg) > 0 and len(orgvsupd) > 0:\n",
    "            return f'ERROR: Neatitinka kodai esantys abejose lentelese. \\n Atnaujinimu lentele:\\n {updvsorg}\\n GIS lentele \\n{orgvsupd}'\n",
    "    else:\n",
    "        return 'ERROR: ID reiksmes dubliuojasi'\n",
    "\n",
    "print (patikra2(updvsorg, orgvsupd))"
   ]
  }
 ],
 "metadata": {
  "interpreter": {
   "hash": "300dc6409ba76354ad2ba64728fb92bcac588e406734ac1d0e0da2eacc6bb35a"
  },
  "kernelspec": {
   "display_name": "Python 3.9.7 64-bit",
   "name": "python3"
  },
  "language_info": {
   "codemirror_mode": {
    "name": "ipython",
    "version": 3
   },
   "file_extension": ".py",
   "mimetype": "text/x-python",
   "name": "python",
   "nbconvert_exporter": "python",
   "pygments_lexer": "ipython3",
   "version": "3.9.7"
  },
  "orig_nbformat": 4
 },
 "nbformat": 4,
 "nbformat_minor": 2
}
