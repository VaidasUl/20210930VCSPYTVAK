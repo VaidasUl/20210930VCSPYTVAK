{
 "cells": [
  {
   "cell_type": "code",
   "execution_count": null,
   "metadata": {},
   "outputs": [],
   "source": [
    "import os\n",
    "import pandas as pd\n",
    "import numpy as np"
   ]
  },
  {
   "cell_type": "code",
   "execution_count": null,
   "metadata": {},
   "outputs": [],
   "source": [
    "os.chdir('C:/My Documents/Mokymai ir kt info/Python/10_Final_Project')\n",
    "os.getcwd()"
   ]
  },
  {
   "cell_type": "markdown",
   "metadata": {},
   "source": [
    "# Main GIS Table"
   ]
  },
  {
   "cell_type": "code",
   "execution_count": null,
   "metadata": {},
   "outputs": [],
   "source": [
    "read_gis_file = pd.read_excel('GIS_DB/CS_GIS_DATA.xlsx')\n",
    "read_gis_file.to_csv('GIS_DB/CS_GIS_DATA.csv', index = None, header = True)\n",
    "df_gis = pd.read_csv('GIS_DB/CS_GIS_DATA.csv', parse_dates=['Start', 'Finish'])"
   ]
  },
  {
   "cell_type": "code",
   "execution_count": null,
   "metadata": {},
   "outputs": [],
   "source": [
    "df_gis.info()"
   ]
  },
  {
   "cell_type": "code",
   "execution_count": null,
   "metadata": {},
   "outputs": [],
   "source": [
    "df_gis.head(2)"
   ]
  },
  {
   "cell_type": "markdown",
   "metadata": {},
   "source": [
    "# Clean Weekly Data update table"
   ]
  },
  {
   "cell_type": "code",
   "execution_count": null,
   "metadata": {},
   "outputs": [],
   "source": [
    "read_gis_file_update = pd.read_excel('Input/CS_Update_01_11_2021.xlsx', sheet_name= 1)\n",
    "read_gis_file_update.to_csv('Input/CS_Update_01_11_2021.csv', index = False, header = True)\n",
    "df_gis_update = pd.read_csv('Input/CS_Update_01_11_2021.csv')"
   ]
  },
  {
   "cell_type": "code",
   "execution_count": null,
   "metadata": {},
   "outputs": [],
   "source": [
    "df_gis_update.info()"
   ]
  },
  {
   "cell_type": "code",
   "execution_count": null,
   "metadata": {},
   "outputs": [],
   "source": [
    "df_gis_update.head(2)"
   ]
  },
  {
   "cell_type": "code",
   "execution_count": null,
   "metadata": {},
   "outputs": [],
   "source": [
    "df_gis_update['Start'] = df_gis_update['Start'].str[:9]\n",
    "df_gis_update['Finish'] = df_gis_update['Finish'].str[:9]\n",
    "df_gis_update['At Completion Duration'] = df_gis_update['At Completion Duration'].str.replace('d','')"
   ]
  },
  {
   "cell_type": "code",
   "execution_count": null,
   "metadata": {},
   "outputs": [],
   "source": [
    "df_gis_update.head(2)"
   ]
  },
  {
   "cell_type": "code",
   "execution_count": null,
   "metadata": {},
   "outputs": [],
   "source": [
    "df_gis_update.to_csv('Input/CS_Update_01_11_2021.csv', index = False)"
   ]
  },
  {
   "cell_type": "code",
   "execution_count": null,
   "metadata": {},
   "outputs": [],
   "source": [
    "df_gis_update = pd.read_csv('Input/CS_Update_01_11_2021.csv', parse_dates=['Start', 'Finish'])\n",
    "df_gis_update.head(2)"
   ]
  },
  {
   "cell_type": "code",
   "execution_count": null,
   "metadata": {},
   "outputs": [],
   "source": [
    "# df_gis_update.drop('Unnamed: 0', axis='columns', inplace=True)"
   ]
  },
  {
   "cell_type": "code",
   "execution_count": null,
   "metadata": {},
   "outputs": [],
   "source": [
    "df_gis_update.info()"
   ]
  },
  {
   "cell_type": "markdown",
   "metadata": {},
   "source": [
    "# Compare CSV's"
   ]
  },
  {
   "cell_type": "code",
   "execution_count": null,
   "metadata": {},
   "outputs": [],
   "source": [
    "df_gis_update['act_cs_id'] = (df_gis_update['Activity ID'] +\"/\"+ df_gis_update['CS ID'])\n",
    "df_gis['act_cs_id'] = (df_gis['Activity ID'] +\"/\"+ df_gis['CS ID'])"
   ]
  },
  {
   "cell_type": "code",
   "execution_count": null,
   "metadata": {},
   "outputs": [],
   "source": [
    "df_gis_update.head(2)"
   ]
  },
  {
   "cell_type": "code",
   "execution_count": null,
   "metadata": {},
   "outputs": [],
   "source": [
    "df_gis.head(2)"
   ]
  },
  {
   "cell_type": "code",
   "execution_count": null,
   "metadata": {},
   "outputs": [],
   "source": [
    "def patikra():\n",
    "    updvsorg = df_gis_update[~df_gis_update.act_cs_id.isin(df_gis.act_cs_id)]\n",
    "    orgvsupd = df_gis[~df_gis.act_cs_id.isin(df_gis_update.act_cs_id)]\n",
    "    if df_gis_update.act_cs_id.nunique() == len(df_gis_update.act_cs_id):\n",
    "        if updvsorg.empty and orgvsupd.empty:\n",
    "            return f'ID codes, number of object match. Total number of objects - {df_gis_update.act_cs_id.nunique()}. \\\n",
    "Data can be updated'\n",
    "        elif len(updvsorg) > 0 and orgvsupd.empty:\n",
    "            raise NotImplementedError (f\"New objects have appeared ({len(updvsorg)} obj.), that are not in the GIS DB. \\n{updvsorg}\")\n",
    "        elif len(orgvsupd) > 0 and updvsorg.empty:\n",
    "            raise NotImplementedError (f\"Missing objects that are in the GIS DB ({len(orgvsupd)} obj.). \\n{orgvsupd}\")\n",
    "        elif len(updvsorg) > 0 and len(orgvsupd) > 0:\n",
    "            raise NotImplementedError (f\"ID's don't match/New objects are found/Missing objects.\\\n",
    "                \\n \\n Objects that are not in GIS DB: \\n {updvsorg} \\n \\n Objects that are not in the updated table: \\n {orgvsupd}\")\n",
    "    else:\n",
    "        raise NotImplementedError (f\"Duplicate IDs are not allowed\")\n",
    "print (patikra())"
   ]
  },
  {
   "cell_type": "markdown",
   "metadata": {},
   "source": [
    "# Update GIS DB"
   ]
  },
  {
   "cell_type": "code",
   "execution_count": null,
   "metadata": {},
   "outputs": [],
   "source": [
    "df_gis.loc[[1, 2, 7, 8, 9, 10, 11, 12]]"
   ]
  },
  {
   "cell_type": "code",
   "execution_count": null,
   "metadata": {},
   "outputs": [],
   "source": [
    "df_gis_update.loc[[1, 25, 7, 8, 9, 10, 11, 12]]"
   ]
  },
  {
   "cell_type": "code",
   "execution_count": null,
   "metadata": {},
   "outputs": [],
   "source": [
    "updated = df_gis.merge(df_gis_update, how='left', on=['act_cs_id'], suffixes=('', '_new'))\n",
    "updated[['Start', 'Finish', 'At Completion Duration']] = np.where(pd.notnull(updated[['Start_new', 'Finish_new', 'At Completion Duration_new']]), updated[['Start_new', 'Finish_new', 'At Completion Duration_new']], updated[['Start_new', 'Finish_new', 'At Completion Duration_new']])\n",
    "updated.drop(['act_cs_id', 'Start_new', 'Finish_new', 'Activity ID_new', 'Activity Name_new', 'At Completion Duration_new', 'CS ID_new', 'Stages_new'], axis=1, inplace=True)"
   ]
  },
  {
   "cell_type": "code",
   "execution_count": null,
   "metadata": {},
   "outputs": [],
   "source": [
    "updated.loc[[1, 2, 7, 8, 9, 10, 11, 12]]"
   ]
  },
  {
   "cell_type": "code",
   "execution_count": null,
   "metadata": {},
   "outputs": [],
   "source": [
    "updated.to_csv('Output/updated.csv', index = False, header = True)\n",
    "updated.to_excel('Output/updated.xlsx', index = False, header = True)"
   ]
  },
  {
   "cell_type": "code",
   "execution_count": null,
   "metadata": {},
   "outputs": [],
   "source": [
    "read_new_excel = pd.read_excel('Output/updated.xlsx', sheet_name= 0)\n",
    "\n",
    "read_new_excel.info()"
   ]
  },
  {
   "cell_type": "code",
   "execution_count": null,
   "metadata": {},
   "outputs": [],
   "source": [
    "read_new_excel"
   ]
  }
 ],
 "metadata": {
  "interpreter": {
   "hash": "300dc6409ba76354ad2ba64728fb92bcac588e406734ac1d0e0da2eacc6bb35a"
  },
  "kernelspec": {
   "display_name": "Python 3.9.7 64-bit",
   "name": "python3"
  },
  "language_info": {
   "codemirror_mode": {
    "name": "ipython",
    "version": 3
   },
   "file_extension": ".py",
   "mimetype": "text/x-python",
   "name": "python",
   "nbconvert_exporter": "python",
   "pygments_lexer": "ipython3",
   "version": "3.9.7"
  },
  "orig_nbformat": 4
 },
 "nbformat": 4,
 "nbformat_minor": 2
}
