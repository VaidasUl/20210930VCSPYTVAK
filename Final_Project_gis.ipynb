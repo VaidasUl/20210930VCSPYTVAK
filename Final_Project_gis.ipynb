{
 "cells": [
  {
   "cell_type": "code",
   "execution_count": 226,
   "metadata": {},
   "outputs": [],
   "source": [
    "import os\n",
    "import pandas as pd"
   ]
  },
  {
   "cell_type": "code",
   "execution_count": 227,
   "metadata": {},
   "outputs": [
    {
     "data": {
      "text/plain": [
       "'C:\\\\My Documents\\\\Mokymai ir kt info\\\\Python\\\\10_Final_Project'"
      ]
     },
     "execution_count": 227,
     "metadata": {},
     "output_type": "execute_result"
    }
   ],
   "source": [
    "os.chdir('C:/My Documents/Mokymai ir kt info/Python/10_Final_Project')\n",
    "os.getcwd()"
   ]
  },
  {
   "cell_type": "markdown",
   "metadata": {},
   "source": [
    "# Main GIS Table"
   ]
  },
  {
   "cell_type": "code",
   "execution_count": 228,
   "metadata": {},
   "outputs": [],
   "source": [
    "read_gis_file = pd.read_excel('GIS_DB/CS_GIS_DATA.xlsx')\n",
    "read_gis_file.to_csv('GIS_DB/CS_GIS_DATA.csv', index = None, header = True)\n",
    "df_gis = pd.read_csv('GIS_DB/CS_GIS_DATA.csv', parse_dates=['Start', 'Finish'])"
   ]
  },
  {
   "cell_type": "code",
   "execution_count": 229,
   "metadata": {},
   "outputs": [
    {
     "name": "stdout",
     "output_type": "stream",
     "text": [
      "<class 'pandas.core.frame.DataFrame'>\n",
      "RangeIndex: 112 entries, 0 to 111\n",
      "Data columns (total 7 columns):\n",
      " #   Column                  Non-Null Count  Dtype         \n",
      "---  ------                  --------------  -----         \n",
      " 0   Activity ID             112 non-null    object        \n",
      " 1   Activity Name           112 non-null    object        \n",
      " 2   Start                   108 non-null    datetime64[ns]\n",
      " 3   Finish                  112 non-null    datetime64[ns]\n",
      " 4   At Completion Duration  112 non-null    int64         \n",
      " 5   CS ID                   112 non-null    object        \n",
      " 6   Stages                  112 non-null    object        \n",
      "dtypes: datetime64[ns](2), int64(1), object(4)\n",
      "memory usage: 6.2+ KB\n"
     ]
    }
   ],
   "source": [
    "df_gis.info()"
   ]
  },
  {
   "cell_type": "code",
   "execution_count": 230,
   "metadata": {},
   "outputs": [
    {
     "data": {
      "text/html": [
       "<div>\n",
       "<style scoped>\n",
       "    .dataframe tbody tr th:only-of-type {\n",
       "        vertical-align: middle;\n",
       "    }\n",
       "\n",
       "    .dataframe tbody tr th {\n",
       "        vertical-align: top;\n",
       "    }\n",
       "\n",
       "    .dataframe thead th {\n",
       "        text-align: right;\n",
       "    }\n",
       "</style>\n",
       "<table border=\"1\" class=\"dataframe\">\n",
       "  <thead>\n",
       "    <tr style=\"text-align: right;\">\n",
       "      <th></th>\n",
       "      <th>Activity ID</th>\n",
       "      <th>Activity Name</th>\n",
       "      <th>Start</th>\n",
       "      <th>Finish</th>\n",
       "      <th>At Completion Duration</th>\n",
       "      <th>CS ID</th>\n",
       "      <th>Stages</th>\n",
       "    </tr>\n",
       "  </thead>\n",
       "  <tbody>\n",
       "    <tr>\n",
       "      <th>0</th>\n",
       "      <td>A1330160</td>\n",
       "      <td>Name 1</td>\n",
       "      <td>2020-01-01</td>\n",
       "      <td>2020-01-01</td>\n",
       "      <td>0</td>\n",
       "      <td>CS6992</td>\n",
       "      <td>SCO.ROA</td>\n",
       "    </tr>\n",
       "    <tr>\n",
       "      <th>1</th>\n",
       "      <td>A1330170</td>\n",
       "      <td>Name 2</td>\n",
       "      <td>2020-01-01</td>\n",
       "      <td>2020-01-01</td>\n",
       "      <td>0</td>\n",
       "      <td>CS6881</td>\n",
       "      <td>SCO.ROA</td>\n",
       "    </tr>\n",
       "  </tbody>\n",
       "</table>\n",
       "</div>"
      ],
      "text/plain": [
       "  Activity ID Activity Name      Start     Finish  At Completion Duration  \\\n",
       "0    A1330160        Name 1 2020-01-01 2020-01-01                       0   \n",
       "1    A1330170        Name 2 2020-01-01 2020-01-01                       0   \n",
       "\n",
       "    CS ID   Stages  \n",
       "0  CS6992  SCO.ROA  \n",
       "1  CS6881  SCO.ROA  "
      ]
     },
     "execution_count": 230,
     "metadata": {},
     "output_type": "execute_result"
    }
   ],
   "source": [
    "df_gis.head(2)"
   ]
  },
  {
   "cell_type": "markdown",
   "metadata": {},
   "source": [
    "# Clean Weekly Data update table"
   ]
  },
  {
   "cell_type": "code",
   "execution_count": 231,
   "metadata": {},
   "outputs": [],
   "source": [
    "read_gis_file_update = pd.read_excel('Input/CS_Update_01_11_2021.xlsx', sheet_name= 1)\n",
    "read_gis_file_update.to_csv('Input/CS_Update_01_11_2021.csv', index = False, header = True)\n",
    "df_gis_update = pd.read_csv('Input/CS_Update_01_11_2021.csv')"
   ]
  },
  {
   "cell_type": "code",
   "execution_count": 232,
   "metadata": {},
   "outputs": [
    {
     "name": "stdout",
     "output_type": "stream",
     "text": [
      "<class 'pandas.core.frame.DataFrame'>\n",
      "RangeIndex: 112 entries, 0 to 111\n",
      "Data columns (total 7 columns):\n",
      " #   Column                  Non-Null Count  Dtype \n",
      "---  ------                  --------------  ----- \n",
      " 0   Activity ID             112 non-null    object\n",
      " 1   Activity Name           112 non-null    object\n",
      " 2   Start                   108 non-null    object\n",
      " 3   Finish                  112 non-null    object\n",
      " 4   At Completion Duration  112 non-null    object\n",
      " 5   CS ID                   112 non-null    object\n",
      " 6   Stages                  112 non-null    object\n",
      "dtypes: object(7)\n",
      "memory usage: 6.2+ KB\n"
     ]
    }
   ],
   "source": [
    "df_gis_update.info()"
   ]
  },
  {
   "cell_type": "code",
   "execution_count": 233,
   "metadata": {},
   "outputs": [
    {
     "data": {
      "text/html": [
       "<div>\n",
       "<style scoped>\n",
       "    .dataframe tbody tr th:only-of-type {\n",
       "        vertical-align: middle;\n",
       "    }\n",
       "\n",
       "    .dataframe tbody tr th {\n",
       "        vertical-align: top;\n",
       "    }\n",
       "\n",
       "    .dataframe thead th {\n",
       "        text-align: right;\n",
       "    }\n",
       "</style>\n",
       "<table border=\"1\" class=\"dataframe\">\n",
       "  <thead>\n",
       "    <tr style=\"text-align: right;\">\n",
       "      <th></th>\n",
       "      <th>Activity ID</th>\n",
       "      <th>Activity Name</th>\n",
       "      <th>Start</th>\n",
       "      <th>Finish</th>\n",
       "      <th>At Completion Duration</th>\n",
       "      <th>CS ID</th>\n",
       "      <th>Stages</th>\n",
       "    </tr>\n",
       "  </thead>\n",
       "  <tbody>\n",
       "    <tr>\n",
       "      <th>0</th>\n",
       "      <td>A1330160</td>\n",
       "      <td>Name 1</td>\n",
       "      <td>13-Sep-22</td>\n",
       "      <td>31-May-24</td>\n",
       "      <td>433d</td>\n",
       "      <td>CS6992</td>\n",
       "      <td>SCO.ROA</td>\n",
       "    </tr>\n",
       "    <tr>\n",
       "      <th>1</th>\n",
       "      <td>A1330170</td>\n",
       "      <td>Name 2</td>\n",
       "      <td>13-Sep-22 A</td>\n",
       "      <td>31-May-24</td>\n",
       "      <td>433d</td>\n",
       "      <td>CS6881</td>\n",
       "      <td>SCO.ROA</td>\n",
       "    </tr>\n",
       "  </tbody>\n",
       "</table>\n",
       "</div>"
      ],
      "text/plain": [
       "  Activity ID Activity Name        Start     Finish At Completion Duration  \\\n",
       "0    A1330160        Name 1    13-Sep-22  31-May-24                   433d   \n",
       "1    A1330170        Name 2  13-Sep-22 A  31-May-24                   433d   \n",
       "\n",
       "    CS ID   Stages  \n",
       "0  CS6992  SCO.ROA  \n",
       "1  CS6881  SCO.ROA  "
      ]
     },
     "execution_count": 233,
     "metadata": {},
     "output_type": "execute_result"
    }
   ],
   "source": [
    "df_gis_update.head(2)"
   ]
  },
  {
   "cell_type": "code",
   "execution_count": 234,
   "metadata": {},
   "outputs": [],
   "source": [
    "df_gis_update['Start'] = df_gis_update['Start'].str[:9]\n",
    "df_gis_update['Finish'] = df_gis_update['Finish'].str[:9]\n",
    "df_gis_update['At Completion Duration'] = df_gis_update['At Completion Duration'].str.replace('d','')"
   ]
  },
  {
   "cell_type": "code",
   "execution_count": 235,
   "metadata": {},
   "outputs": [
    {
     "data": {
      "text/html": [
       "<div>\n",
       "<style scoped>\n",
       "    .dataframe tbody tr th:only-of-type {\n",
       "        vertical-align: middle;\n",
       "    }\n",
       "\n",
       "    .dataframe tbody tr th {\n",
       "        vertical-align: top;\n",
       "    }\n",
       "\n",
       "    .dataframe thead th {\n",
       "        text-align: right;\n",
       "    }\n",
       "</style>\n",
       "<table border=\"1\" class=\"dataframe\">\n",
       "  <thead>\n",
       "    <tr style=\"text-align: right;\">\n",
       "      <th></th>\n",
       "      <th>Activity ID</th>\n",
       "      <th>Activity Name</th>\n",
       "      <th>Start</th>\n",
       "      <th>Finish</th>\n",
       "      <th>At Completion Duration</th>\n",
       "      <th>CS ID</th>\n",
       "      <th>Stages</th>\n",
       "    </tr>\n",
       "  </thead>\n",
       "  <tbody>\n",
       "    <tr>\n",
       "      <th>0</th>\n",
       "      <td>A1330160</td>\n",
       "      <td>Name 1</td>\n",
       "      <td>13-Sep-22</td>\n",
       "      <td>31-May-24</td>\n",
       "      <td>433</td>\n",
       "      <td>CS6992</td>\n",
       "      <td>SCO.ROA</td>\n",
       "    </tr>\n",
       "    <tr>\n",
       "      <th>1</th>\n",
       "      <td>A1330170</td>\n",
       "      <td>Name 2</td>\n",
       "      <td>13-Sep-22</td>\n",
       "      <td>31-May-24</td>\n",
       "      <td>433</td>\n",
       "      <td>CS6881</td>\n",
       "      <td>SCO.ROA</td>\n",
       "    </tr>\n",
       "  </tbody>\n",
       "</table>\n",
       "</div>"
      ],
      "text/plain": [
       "  Activity ID Activity Name      Start     Finish At Completion Duration  \\\n",
       "0    A1330160        Name 1  13-Sep-22  31-May-24                    433   \n",
       "1    A1330170        Name 2  13-Sep-22  31-May-24                    433   \n",
       "\n",
       "    CS ID   Stages  \n",
       "0  CS6992  SCO.ROA  \n",
       "1  CS6881  SCO.ROA  "
      ]
     },
     "execution_count": 235,
     "metadata": {},
     "output_type": "execute_result"
    }
   ],
   "source": [
    "df_gis_update.head(2)"
   ]
  },
  {
   "cell_type": "code",
   "execution_count": 236,
   "metadata": {},
   "outputs": [],
   "source": [
    "df_gis_update.to_csv('Input/CS_Update_01_11_2021.csv', index = False)"
   ]
  },
  {
   "cell_type": "code",
   "execution_count": 237,
   "metadata": {},
   "outputs": [
    {
     "data": {
      "text/html": [
       "<div>\n",
       "<style scoped>\n",
       "    .dataframe tbody tr th:only-of-type {\n",
       "        vertical-align: middle;\n",
       "    }\n",
       "\n",
       "    .dataframe tbody tr th {\n",
       "        vertical-align: top;\n",
       "    }\n",
       "\n",
       "    .dataframe thead th {\n",
       "        text-align: right;\n",
       "    }\n",
       "</style>\n",
       "<table border=\"1\" class=\"dataframe\">\n",
       "  <thead>\n",
       "    <tr style=\"text-align: right;\">\n",
       "      <th></th>\n",
       "      <th>Activity ID</th>\n",
       "      <th>Activity Name</th>\n",
       "      <th>Start</th>\n",
       "      <th>Finish</th>\n",
       "      <th>At Completion Duration</th>\n",
       "      <th>CS ID</th>\n",
       "      <th>Stages</th>\n",
       "    </tr>\n",
       "  </thead>\n",
       "  <tbody>\n",
       "    <tr>\n",
       "      <th>0</th>\n",
       "      <td>A1330160</td>\n",
       "      <td>Name 1</td>\n",
       "      <td>2022-09-13</td>\n",
       "      <td>2024-05-31</td>\n",
       "      <td>433</td>\n",
       "      <td>CS6992</td>\n",
       "      <td>SCO.ROA</td>\n",
       "    </tr>\n",
       "    <tr>\n",
       "      <th>1</th>\n",
       "      <td>A1330170</td>\n",
       "      <td>Name 2</td>\n",
       "      <td>2022-09-13</td>\n",
       "      <td>2024-05-31</td>\n",
       "      <td>433</td>\n",
       "      <td>CS6881</td>\n",
       "      <td>SCO.ROA</td>\n",
       "    </tr>\n",
       "  </tbody>\n",
       "</table>\n",
       "</div>"
      ],
      "text/plain": [
       "  Activity ID Activity Name      Start     Finish  At Completion Duration  \\\n",
       "0    A1330160        Name 1 2022-09-13 2024-05-31                     433   \n",
       "1    A1330170        Name 2 2022-09-13 2024-05-31                     433   \n",
       "\n",
       "    CS ID   Stages  \n",
       "0  CS6992  SCO.ROA  \n",
       "1  CS6881  SCO.ROA  "
      ]
     },
     "execution_count": 237,
     "metadata": {},
     "output_type": "execute_result"
    }
   ],
   "source": [
    "df_gis_update = pd.read_csv('Input/CS_Update_01_11_2021.csv', parse_dates=['Start', 'Finish'])\n",
    "df_gis_update.head(2)"
   ]
  },
  {
   "cell_type": "code",
   "execution_count": 238,
   "metadata": {},
   "outputs": [],
   "source": [
    "# df_gis_update.drop('Unnamed: 0', axis='columns', inplace=True)"
   ]
  },
  {
   "cell_type": "code",
   "execution_count": 239,
   "metadata": {},
   "outputs": [],
   "source": [
    "# df_gis_update.head(2)"
   ]
  },
  {
   "cell_type": "code",
   "execution_count": 240,
   "metadata": {},
   "outputs": [
    {
     "name": "stdout",
     "output_type": "stream",
     "text": [
      "<class 'pandas.core.frame.DataFrame'>\n",
      "RangeIndex: 112 entries, 0 to 111\n",
      "Data columns (total 7 columns):\n",
      " #   Column                  Non-Null Count  Dtype         \n",
      "---  ------                  --------------  -----         \n",
      " 0   Activity ID             112 non-null    object        \n",
      " 1   Activity Name           112 non-null    object        \n",
      " 2   Start                   108 non-null    datetime64[ns]\n",
      " 3   Finish                  112 non-null    datetime64[ns]\n",
      " 4   At Completion Duration  112 non-null    int64         \n",
      " 5   CS ID                   112 non-null    object        \n",
      " 6   Stages                  112 non-null    object        \n",
      "dtypes: datetime64[ns](2), int64(1), object(4)\n",
      "memory usage: 6.2+ KB\n"
     ]
    }
   ],
   "source": [
    "df_gis_update.info()"
   ]
  },
  {
   "cell_type": "markdown",
   "metadata": {},
   "source": [
    "# Compare CSV's"
   ]
  },
  {
   "cell_type": "code",
   "execution_count": 241,
   "metadata": {},
   "outputs": [],
   "source": [
    "df_gis_update['act_cs_id'] = (df_gis_update['Activity ID'] +\"/\"+ df_gis_update['CS ID'])\n",
    "df_gis['act_cs_id'] = (df_gis['Activity ID'] +\"/\"+ df_gis['CS ID'])"
   ]
  },
  {
   "cell_type": "code",
   "execution_count": 242,
   "metadata": {},
   "outputs": [
    {
     "data": {
      "text/html": [
       "<div>\n",
       "<style scoped>\n",
       "    .dataframe tbody tr th:only-of-type {\n",
       "        vertical-align: middle;\n",
       "    }\n",
       "\n",
       "    .dataframe tbody tr th {\n",
       "        vertical-align: top;\n",
       "    }\n",
       "\n",
       "    .dataframe thead th {\n",
       "        text-align: right;\n",
       "    }\n",
       "</style>\n",
       "<table border=\"1\" class=\"dataframe\">\n",
       "  <thead>\n",
       "    <tr style=\"text-align: right;\">\n",
       "      <th></th>\n",
       "      <th>Activity ID</th>\n",
       "      <th>Activity Name</th>\n",
       "      <th>Start</th>\n",
       "      <th>Finish</th>\n",
       "      <th>At Completion Duration</th>\n",
       "      <th>CS ID</th>\n",
       "      <th>Stages</th>\n",
       "      <th>act_cs_id</th>\n",
       "    </tr>\n",
       "  </thead>\n",
       "  <tbody>\n",
       "    <tr>\n",
       "      <th>0</th>\n",
       "      <td>A1330160</td>\n",
       "      <td>Name 1</td>\n",
       "      <td>2022-09-13</td>\n",
       "      <td>2024-05-31</td>\n",
       "      <td>433</td>\n",
       "      <td>CS6992</td>\n",
       "      <td>SCO.ROA</td>\n",
       "      <td>A1330160/CS6992</td>\n",
       "    </tr>\n",
       "    <tr>\n",
       "      <th>1</th>\n",
       "      <td>A1330170</td>\n",
       "      <td>Name 2</td>\n",
       "      <td>2022-09-13</td>\n",
       "      <td>2024-05-31</td>\n",
       "      <td>433</td>\n",
       "      <td>CS6881</td>\n",
       "      <td>SCO.ROA</td>\n",
       "      <td>A1330170/CS6881</td>\n",
       "    </tr>\n",
       "  </tbody>\n",
       "</table>\n",
       "</div>"
      ],
      "text/plain": [
       "  Activity ID Activity Name      Start     Finish  At Completion Duration  \\\n",
       "0    A1330160        Name 1 2022-09-13 2024-05-31                     433   \n",
       "1    A1330170        Name 2 2022-09-13 2024-05-31                     433   \n",
       "\n",
       "    CS ID   Stages        act_cs_id  \n",
       "0  CS6992  SCO.ROA  A1330160/CS6992  \n",
       "1  CS6881  SCO.ROA  A1330170/CS6881  "
      ]
     },
     "execution_count": 242,
     "metadata": {},
     "output_type": "execute_result"
    }
   ],
   "source": [
    "df_gis_update.head(2)"
   ]
  },
  {
   "cell_type": "code",
   "execution_count": 243,
   "metadata": {},
   "outputs": [
    {
     "data": {
      "text/html": [
       "<div>\n",
       "<style scoped>\n",
       "    .dataframe tbody tr th:only-of-type {\n",
       "        vertical-align: middle;\n",
       "    }\n",
       "\n",
       "    .dataframe tbody tr th {\n",
       "        vertical-align: top;\n",
       "    }\n",
       "\n",
       "    .dataframe thead th {\n",
       "        text-align: right;\n",
       "    }\n",
       "</style>\n",
       "<table border=\"1\" class=\"dataframe\">\n",
       "  <thead>\n",
       "    <tr style=\"text-align: right;\">\n",
       "      <th></th>\n",
       "      <th>Activity ID</th>\n",
       "      <th>Activity Name</th>\n",
       "      <th>Start</th>\n",
       "      <th>Finish</th>\n",
       "      <th>At Completion Duration</th>\n",
       "      <th>CS ID</th>\n",
       "      <th>Stages</th>\n",
       "      <th>act_cs_id</th>\n",
       "    </tr>\n",
       "  </thead>\n",
       "  <tbody>\n",
       "    <tr>\n",
       "      <th>0</th>\n",
       "      <td>A1330160</td>\n",
       "      <td>Name 1</td>\n",
       "      <td>2020-01-01</td>\n",
       "      <td>2020-01-01</td>\n",
       "      <td>0</td>\n",
       "      <td>CS6992</td>\n",
       "      <td>SCO.ROA</td>\n",
       "      <td>A1330160/CS6992</td>\n",
       "    </tr>\n",
       "    <tr>\n",
       "      <th>1</th>\n",
       "      <td>A1330170</td>\n",
       "      <td>Name 2</td>\n",
       "      <td>2020-01-01</td>\n",
       "      <td>2020-01-01</td>\n",
       "      <td>0</td>\n",
       "      <td>CS6881</td>\n",
       "      <td>SCO.ROA</td>\n",
       "      <td>A1330170/CS6881</td>\n",
       "    </tr>\n",
       "  </tbody>\n",
       "</table>\n",
       "</div>"
      ],
      "text/plain": [
       "  Activity ID Activity Name      Start     Finish  At Completion Duration  \\\n",
       "0    A1330160        Name 1 2020-01-01 2020-01-01                       0   \n",
       "1    A1330170        Name 2 2020-01-01 2020-01-01                       0   \n",
       "\n",
       "    CS ID   Stages        act_cs_id  \n",
       "0  CS6992  SCO.ROA  A1330160/CS6992  \n",
       "1  CS6881  SCO.ROA  A1330170/CS6881  "
      ]
     },
     "execution_count": 243,
     "metadata": {},
     "output_type": "execute_result"
    }
   ],
   "source": [
    "df_gis.head(2)"
   ]
  },
  {
   "cell_type": "code",
   "execution_count": 244,
   "metadata": {},
   "outputs": [
    {
     "name": "stdout",
     "output_type": "stream",
     "text": [
      "ID kodai ir objektu skaicius abejose lentelese sutampa. Viso objektu yra 112. Duomenys tinkami atnaujinimui\n"
     ]
    }
   ],
   "source": [
    "def patikra():\n",
    "    updvsorg = df_gis_update[~df_gis_update.act_cs_id.isin(df_gis.act_cs_id)]\n",
    "    orgvsupd = df_gis[~df_gis.act_cs_id.isin(df_gis_update.act_cs_id)]\n",
    "    if df_gis_update.act_cs_id.nunique() == len(df_gis_update.act_cs_id):\n",
    "        if updvsorg.empty and orgvsupd.empty:\n",
    "            return f'ID kodai ir objektu skaicius abejose lentelese sutampa. Viso objektu yra {df_gis_update.act_cs_id.nunique()}. \\\n",
    "Duomenys tinkami atnaujinimui'\n",
    "        elif len(updvsorg) > 0 and orgvsupd.empty:\n",
    "            return f'ERROR: Rasti nauji objektai ({len(updvsorg)} vnt.), kuriu nera GIS DB. \\n{updvsorg}'\n",
    "        elif len(orgvsupd) > 0 and updvsorg.empty:\n",
    "            return f'ERROR: Atnaujinamoje lenteleje truksta objektu esanciu GIS DB ({len(orgvsupd)} vnt.). \\n{orgvsupd}'\n",
    "        elif len(updvsorg) > 0 and len(orgvsupd) > 0:\n",
    "            return f'ERROR: Galimos klaidos:Nnatitinka ID/atsirado nauju objektu/truksta objektu. \\n \\\n",
    "Objektai, kuriu nera GIS DB:\\n {updvsorg}\\n Objektai, kuriu nera atnaujinamoje lenteleje \\n{orgvsupd}'\n",
    "    else:\n",
    "        return 'ERROR: ID reiksmes negali kartotis'\n",
    "print (patikra())"
   ]
  },
  {
   "cell_type": "markdown",
   "metadata": {},
   "source": [
    "# Update GIS DB"
   ]
  },
  {
   "cell_type": "code",
   "execution_count": 245,
   "metadata": {},
   "outputs": [
    {
     "data": {
      "text/html": [
       "<div>\n",
       "<style scoped>\n",
       "    .dataframe tbody tr th:only-of-type {\n",
       "        vertical-align: middle;\n",
       "    }\n",
       "\n",
       "    .dataframe tbody tr th {\n",
       "        vertical-align: top;\n",
       "    }\n",
       "\n",
       "    .dataframe thead th {\n",
       "        text-align: right;\n",
       "    }\n",
       "</style>\n",
       "<table border=\"1\" class=\"dataframe\">\n",
       "  <thead>\n",
       "    <tr style=\"text-align: right;\">\n",
       "      <th></th>\n",
       "      <th>Activity ID</th>\n",
       "      <th>Activity Name</th>\n",
       "      <th>Start</th>\n",
       "      <th>Finish</th>\n",
       "      <th>At Completion Duration</th>\n",
       "      <th>CS ID</th>\n",
       "      <th>Stages</th>\n",
       "      <th>act_cs_id</th>\n",
       "    </tr>\n",
       "  </thead>\n",
       "  <tbody>\n",
       "    <tr>\n",
       "      <th>0</th>\n",
       "      <td>A1330160</td>\n",
       "      <td>Name 1</td>\n",
       "      <td>2020-01-01</td>\n",
       "      <td>2020-01-01</td>\n",
       "      <td>0</td>\n",
       "      <td>CS6992</td>\n",
       "      <td>SCO.ROA</td>\n",
       "      <td>A1330160/CS6992</td>\n",
       "    </tr>\n",
       "    <tr>\n",
       "      <th>1</th>\n",
       "      <td>A1330170</td>\n",
       "      <td>Name 2</td>\n",
       "      <td>2020-01-01</td>\n",
       "      <td>2020-01-01</td>\n",
       "      <td>0</td>\n",
       "      <td>CS6881</td>\n",
       "      <td>SCO.ROA</td>\n",
       "      <td>A1330170/CS6881</td>\n",
       "    </tr>\n",
       "    <tr>\n",
       "      <th>2</th>\n",
       "      <td>A1330180</td>\n",
       "      <td>Name 3</td>\n",
       "      <td>2020-01-01</td>\n",
       "      <td>2020-01-01</td>\n",
       "      <td>0</td>\n",
       "      <td>CS6733</td>\n",
       "      <td>SCO.ROA</td>\n",
       "      <td>A1330180/CS6733</td>\n",
       "    </tr>\n",
       "  </tbody>\n",
       "</table>\n",
       "</div>"
      ],
      "text/plain": [
       "  Activity ID Activity Name      Start     Finish  At Completion Duration  \\\n",
       "0    A1330160        Name 1 2020-01-01 2020-01-01                       0   \n",
       "1    A1330170        Name 2 2020-01-01 2020-01-01                       0   \n",
       "2    A1330180        Name 3 2020-01-01 2020-01-01                       0   \n",
       "\n",
       "    CS ID   Stages        act_cs_id  \n",
       "0  CS6992  SCO.ROA  A1330160/CS6992  \n",
       "1  CS6881  SCO.ROA  A1330170/CS6881  \n",
       "2  CS6733  SCO.ROA  A1330180/CS6733  "
      ]
     },
     "execution_count": 245,
     "metadata": {},
     "output_type": "execute_result"
    }
   ],
   "source": [
    "df_gis.head(3)"
   ]
  },
  {
   "cell_type": "code",
   "execution_count": 246,
   "metadata": {},
   "outputs": [
    {
     "data": {
      "text/html": [
       "<div>\n",
       "<style scoped>\n",
       "    .dataframe tbody tr th:only-of-type {\n",
       "        vertical-align: middle;\n",
       "    }\n",
       "\n",
       "    .dataframe tbody tr th {\n",
       "        vertical-align: top;\n",
       "    }\n",
       "\n",
       "    .dataframe thead th {\n",
       "        text-align: right;\n",
       "    }\n",
       "</style>\n",
       "<table border=\"1\" class=\"dataframe\">\n",
       "  <thead>\n",
       "    <tr style=\"text-align: right;\">\n",
       "      <th></th>\n",
       "      <th>Activity ID</th>\n",
       "      <th>Activity Name</th>\n",
       "      <th>Start</th>\n",
       "      <th>Finish</th>\n",
       "      <th>At Completion Duration</th>\n",
       "      <th>CS ID</th>\n",
       "      <th>Stages</th>\n",
       "      <th>act_cs_id</th>\n",
       "    </tr>\n",
       "  </thead>\n",
       "  <tbody>\n",
       "    <tr>\n",
       "      <th>0</th>\n",
       "      <td>A1330160</td>\n",
       "      <td>Name 1</td>\n",
       "      <td>2022-09-13</td>\n",
       "      <td>2024-05-31</td>\n",
       "      <td>433</td>\n",
       "      <td>CS6992</td>\n",
       "      <td>SCO.ROA</td>\n",
       "      <td>A1330160/CS6992</td>\n",
       "    </tr>\n",
       "    <tr>\n",
       "      <th>1</th>\n",
       "      <td>A1330170</td>\n",
       "      <td>Name 2</td>\n",
       "      <td>2022-09-13</td>\n",
       "      <td>2024-05-31</td>\n",
       "      <td>433</td>\n",
       "      <td>CS6881</td>\n",
       "      <td>SCO.ROA</td>\n",
       "      <td>A1330170/CS6881</td>\n",
       "    </tr>\n",
       "    <tr>\n",
       "      <th>2</th>\n",
       "      <td>A1330180</td>\n",
       "      <td>Name 3</td>\n",
       "      <td>2021-12-02</td>\n",
       "      <td>2023-08-22</td>\n",
       "      <td>9999</td>\n",
       "      <td>CS6733</td>\n",
       "      <td>SCO.ROA</td>\n",
       "      <td>A1330180/CS6733</td>\n",
       "    </tr>\n",
       "  </tbody>\n",
       "</table>\n",
       "</div>"
      ],
      "text/plain": [
       "  Activity ID Activity Name      Start     Finish  At Completion Duration  \\\n",
       "0    A1330160        Name 1 2022-09-13 2024-05-31                     433   \n",
       "1    A1330170        Name 2 2022-09-13 2024-05-31                     433   \n",
       "2    A1330180        Name 3 2021-12-02 2023-08-22                    9999   \n",
       "\n",
       "    CS ID   Stages        act_cs_id  \n",
       "0  CS6992  SCO.ROA  A1330160/CS6992  \n",
       "1  CS6881  SCO.ROA  A1330170/CS6881  \n",
       "2  CS6733  SCO.ROA  A1330180/CS6733  "
      ]
     },
     "execution_count": 246,
     "metadata": {},
     "output_type": "execute_result"
    }
   ],
   "source": [
    "df_gis_update.head(3)"
   ]
  },
  {
   "cell_type": "code",
   "execution_count": 247,
   "metadata": {},
   "outputs": [],
   "source": [
    "import numpy as np"
   ]
  },
  {
   "cell_type": "code",
   "execution_count": 258,
   "metadata": {},
   "outputs": [],
   "source": [
    "updated = df_gis.merge(df_gis_update, how='left', on=['act_cs_id'], suffixes=('', '_new'))\n",
    "updated[['Start', 'Finish', 'At Completion Duration']] = np.where(pd.notnull(updated[['Start_new', 'Finish_new', 'At Completion Duration_new']]), updated[['Start_new', 'Finish_new', 'At Completion Duration_new']], updated[['Start_new', 'Finish_new', 'At Completion Duration_new']])\n",
    "updated.drop(['Start_new', 'Finish_new', 'Activity ID_new', 'Activity Name_new', 'At Completion Duration_new', 'CS ID_new', 'Stages_new'], axis=1, inplace=True)"
   ]
  },
  {
   "cell_type": "code",
   "execution_count": 259,
   "metadata": {},
   "outputs": [
    {
     "data": {
      "text/html": [
       "<div>\n",
       "<style scoped>\n",
       "    .dataframe tbody tr th:only-of-type {\n",
       "        vertical-align: middle;\n",
       "    }\n",
       "\n",
       "    .dataframe tbody tr th {\n",
       "        vertical-align: top;\n",
       "    }\n",
       "\n",
       "    .dataframe thead th {\n",
       "        text-align: right;\n",
       "    }\n",
       "</style>\n",
       "<table border=\"1\" class=\"dataframe\">\n",
       "  <thead>\n",
       "    <tr style=\"text-align: right;\">\n",
       "      <th></th>\n",
       "      <th>Activity ID</th>\n",
       "      <th>Activity Name</th>\n",
       "      <th>Start</th>\n",
       "      <th>Finish</th>\n",
       "      <th>At Completion Duration</th>\n",
       "      <th>CS ID</th>\n",
       "      <th>Stages</th>\n",
       "      <th>act_cs_id</th>\n",
       "    </tr>\n",
       "  </thead>\n",
       "  <tbody>\n",
       "    <tr>\n",
       "      <th>6</th>\n",
       "      <td>A1330220</td>\n",
       "      <td>Name 7</td>\n",
       "      <td>2023-02-21</td>\n",
       "      <td>2024-11-08</td>\n",
       "      <td>433</td>\n",
       "      <td>CS6240</td>\n",
       "      <td>SCO.ROA</td>\n",
       "      <td>A1330220/CS6240</td>\n",
       "    </tr>\n",
       "    <tr>\n",
       "      <th>7</th>\n",
       "      <td>A1330230</td>\n",
       "      <td>Name 8</td>\n",
       "      <td>2022-11-03</td>\n",
       "      <td>2024-07-23</td>\n",
       "      <td>433</td>\n",
       "      <td>CS6166</td>\n",
       "      <td>SCO.ROA</td>\n",
       "      <td>A1330230/CS6166</td>\n",
       "    </tr>\n",
       "    <tr>\n",
       "      <th>8</th>\n",
       "      <td>A13315</td>\n",
       "      <td>Name 9</td>\n",
       "      <td>NaT</td>\n",
       "      <td>2027-12-22</td>\n",
       "      <td>0</td>\n",
       "      <td>CS6010</td>\n",
       "      <td>SHO</td>\n",
       "      <td>A13315/CS6010</td>\n",
       "    </tr>\n",
       "    <tr>\n",
       "      <th>9</th>\n",
       "      <td>A13320</td>\n",
       "      <td>Name 10</td>\n",
       "      <td>NaT</td>\n",
       "      <td>2029-02-23</td>\n",
       "      <td>0</td>\n",
       "      <td>CS8900</td>\n",
       "      <td>SHO</td>\n",
       "      <td>A13320/CS8900</td>\n",
       "    </tr>\n",
       "    <tr>\n",
       "      <th>10</th>\n",
       "      <td>A13325</td>\n",
       "      <td>Name 11</td>\n",
       "      <td>NaT</td>\n",
       "      <td>2027-08-31</td>\n",
       "      <td>0</td>\n",
       "      <td>CS6011</td>\n",
       "      <td>SHO</td>\n",
       "      <td>A13325/CS6011</td>\n",
       "    </tr>\n",
       "    <tr>\n",
       "      <th>11</th>\n",
       "      <td>A13330</td>\n",
       "      <td>Name 12</td>\n",
       "      <td>NaT</td>\n",
       "      <td>2029-12-04</td>\n",
       "      <td>0</td>\n",
       "      <td>CS7900</td>\n",
       "      <td>SHO</td>\n",
       "      <td>A13330/CS7900</td>\n",
       "    </tr>\n",
       "    <tr>\n",
       "      <th>12</th>\n",
       "      <td>A1339330</td>\n",
       "      <td>Name 13</td>\n",
       "      <td>2027-10-15</td>\n",
       "      <td>2027-11-18</td>\n",
       "      <td>25</td>\n",
       "      <td>CS8712</td>\n",
       "      <td>SCO.TA.CIS</td>\n",
       "      <td>A1339330/CS8712</td>\n",
       "    </tr>\n",
       "  </tbody>\n",
       "</table>\n",
       "</div>"
      ],
      "text/plain": [
       "   Activity ID Activity Name      Start     Finish At Completion Duration  \\\n",
       "6     A1330220        Name 7 2023-02-21 2024-11-08                    433   \n",
       "7     A1330230        Name 8 2022-11-03 2024-07-23                    433   \n",
       "8       A13315        Name 9        NaT 2027-12-22                      0   \n",
       "9       A13320       Name 10        NaT 2029-02-23                      0   \n",
       "10      A13325       Name 11        NaT 2027-08-31                      0   \n",
       "11      A13330       Name 12        NaT 2029-12-04                      0   \n",
       "12    A1339330       Name 13 2027-10-15 2027-11-18                     25   \n",
       "\n",
       "     CS ID      Stages        act_cs_id  \n",
       "6   CS6240     SCO.ROA  A1330220/CS6240  \n",
       "7   CS6166     SCO.ROA  A1330230/CS6166  \n",
       "8   CS6010         SHO    A13315/CS6010  \n",
       "9   CS8900         SHO    A13320/CS8900  \n",
       "10  CS6011         SHO    A13325/CS6011  \n",
       "11  CS7900         SHO    A13330/CS7900  \n",
       "12  CS8712  SCO.TA.CIS  A1339330/CS8712  "
      ]
     },
     "execution_count": 259,
     "metadata": {},
     "output_type": "execute_result"
    }
   ],
   "source": [
    "updated.loc[[6, 7, 8, 9, 10, 11, 12]]"
   ]
  },
  {
   "cell_type": "code",
   "execution_count": 276,
   "metadata": {},
   "outputs": [],
   "source": [
    "updated.to_csv('Output/updated.csv', index = False, header = True)\n",
    "updated.to_excel('Output/updated.xlsx', index = False, header = True)"
   ]
  },
  {
   "cell_type": "code",
   "execution_count": 273,
   "metadata": {},
   "outputs": [
    {
     "name": "stdout",
     "output_type": "stream",
     "text": [
      "<class 'pandas.core.frame.DataFrame'>\n",
      "RangeIndex: 112 entries, 0 to 111\n",
      "Data columns (total 8 columns):\n",
      " #   Column                  Non-Null Count  Dtype         \n",
      "---  ------                  --------------  -----         \n",
      " 0   Activity ID             112 non-null    object        \n",
      " 1   Activity Name           112 non-null    object        \n",
      " 2   Start                   108 non-null    datetime64[ns]\n",
      " 3   Finish                  112 non-null    datetime64[ns]\n",
      " 4   At Completion Duration  112 non-null    int64         \n",
      " 5   CS ID                   112 non-null    object        \n",
      " 6   Stages                  112 non-null    object        \n",
      " 7   act_cs_id               112 non-null    object        \n",
      "dtypes: datetime64[ns](2), int64(1), object(5)\n",
      "memory usage: 7.1+ KB\n"
     ]
    }
   ],
   "source": [
    "read_new_excel = pd.read_excel('Output/updated.xlsx', sheet_name= 0)\n",
    "\n",
    "read_new_excel.info()"
   ]
  },
  {
   "cell_type": "code",
   "execution_count": 277,
   "metadata": {},
   "outputs": [
    {
     "data": {
      "text/html": [
       "<div>\n",
       "<style scoped>\n",
       "    .dataframe tbody tr th:only-of-type {\n",
       "        vertical-align: middle;\n",
       "    }\n",
       "\n",
       "    .dataframe tbody tr th {\n",
       "        vertical-align: top;\n",
       "    }\n",
       "\n",
       "    .dataframe thead th {\n",
       "        text-align: right;\n",
       "    }\n",
       "</style>\n",
       "<table border=\"1\" class=\"dataframe\">\n",
       "  <thead>\n",
       "    <tr style=\"text-align: right;\">\n",
       "      <th></th>\n",
       "      <th>Activity ID</th>\n",
       "      <th>Activity Name</th>\n",
       "      <th>Start</th>\n",
       "      <th>Finish</th>\n",
       "      <th>At Completion Duration</th>\n",
       "      <th>CS ID</th>\n",
       "      <th>Stages</th>\n",
       "      <th>act_cs_id</th>\n",
       "    </tr>\n",
       "  </thead>\n",
       "  <tbody>\n",
       "    <tr>\n",
       "      <th>0</th>\n",
       "      <td>A1330160</td>\n",
       "      <td>Name 1</td>\n",
       "      <td>2022-09-13</td>\n",
       "      <td>2024-05-31</td>\n",
       "      <td>433</td>\n",
       "      <td>CS6992</td>\n",
       "      <td>SCO.ROA</td>\n",
       "      <td>A1330160/CS6992</td>\n",
       "    </tr>\n",
       "    <tr>\n",
       "      <th>1</th>\n",
       "      <td>A1330170</td>\n",
       "      <td>Name 2</td>\n",
       "      <td>2022-09-13</td>\n",
       "      <td>2024-05-31</td>\n",
       "      <td>433</td>\n",
       "      <td>CS6881</td>\n",
       "      <td>SCO.ROA</td>\n",
       "      <td>A1330170/CS6881</td>\n",
       "    </tr>\n",
       "    <tr>\n",
       "      <th>2</th>\n",
       "      <td>A1330180</td>\n",
       "      <td>Name 3</td>\n",
       "      <td>2021-12-02</td>\n",
       "      <td>2023-08-22</td>\n",
       "      <td>9999</td>\n",
       "      <td>CS6733</td>\n",
       "      <td>SCO.ROA</td>\n",
       "      <td>A1330180/CS6733</td>\n",
       "    </tr>\n",
       "    <tr>\n",
       "      <th>3</th>\n",
       "      <td>A1330190</td>\n",
       "      <td>Name 4</td>\n",
       "      <td>2021-12-02</td>\n",
       "      <td>2023-08-22</td>\n",
       "      <td>433</td>\n",
       "      <td>CS6672</td>\n",
       "      <td>SCO.ROA</td>\n",
       "      <td>A1330190/CS6672</td>\n",
       "    </tr>\n",
       "    <tr>\n",
       "      <th>4</th>\n",
       "      <td>A1330200</td>\n",
       "      <td>Name 5</td>\n",
       "      <td>2023-01-04</td>\n",
       "      <td>2024-09-23</td>\n",
       "      <td>433</td>\n",
       "      <td>CS6563</td>\n",
       "      <td>SCO.ROA</td>\n",
       "      <td>A1330200/CS6563</td>\n",
       "    </tr>\n",
       "    <tr>\n",
       "      <th>...</th>\n",
       "      <td>...</td>\n",
       "      <td>...</td>\n",
       "      <td>...</td>\n",
       "      <td>...</td>\n",
       "      <td>...</td>\n",
       "      <td>...</td>\n",
       "      <td>...</td>\n",
       "      <td>...</td>\n",
       "    </tr>\n",
       "    <tr>\n",
       "      <th>107</th>\n",
       "      <td>A1344470</td>\n",
       "      <td>Name 108</td>\n",
       "      <td>2026-11-25</td>\n",
       "      <td>2027-03-12</td>\n",
       "      <td>63</td>\n",
       "      <td>CS7011</td>\n",
       "      <td>SCO.TA.CIS</td>\n",
       "      <td>A1344470/CS7011</td>\n",
       "    </tr>\n",
       "    <tr>\n",
       "      <th>108</th>\n",
       "      <td>A1344480</td>\n",
       "      <td>Name 109</td>\n",
       "      <td>2027-03-15</td>\n",
       "      <td>2027-06-09</td>\n",
       "      <td>63</td>\n",
       "      <td>CS7210</td>\n",
       "      <td>SCO.TA.CIS</td>\n",
       "      <td>A1344480/CS7210</td>\n",
       "    </tr>\n",
       "    <tr>\n",
       "      <th>109</th>\n",
       "      <td>A1344490</td>\n",
       "      <td>Name 110</td>\n",
       "      <td>2027-06-10</td>\n",
       "      <td>2027-09-06</td>\n",
       "      <td>63</td>\n",
       "      <td>CS7412</td>\n",
       "      <td>SCO.TA.CIS</td>\n",
       "      <td>A1344490/CS7412</td>\n",
       "    </tr>\n",
       "    <tr>\n",
       "      <th>110</th>\n",
       "      <td>A1344500</td>\n",
       "      <td>Name 111</td>\n",
       "      <td>2027-09-07</td>\n",
       "      <td>2027-12-03</td>\n",
       "      <td>63</td>\n",
       "      <td>CS7612</td>\n",
       "      <td>SCO.TA.CIS</td>\n",
       "      <td>A1344500/CS7612</td>\n",
       "    </tr>\n",
       "    <tr>\n",
       "      <th>111</th>\n",
       "      <td>A1344510</td>\n",
       "      <td>Name 112</td>\n",
       "      <td>2027-12-06</td>\n",
       "      <td>2028-03-17</td>\n",
       "      <td>63</td>\n",
       "      <td>CS7810</td>\n",
       "      <td>SCO.TA.CIS</td>\n",
       "      <td>A1344510/CS7810</td>\n",
       "    </tr>\n",
       "  </tbody>\n",
       "</table>\n",
       "<p>112 rows × 8 columns</p>\n",
       "</div>"
      ],
      "text/plain": [
       "    Activity ID Activity Name      Start     Finish  At Completion Duration  \\\n",
       "0      A1330160        Name 1 2022-09-13 2024-05-31                     433   \n",
       "1      A1330170        Name 2 2022-09-13 2024-05-31                     433   \n",
       "2      A1330180        Name 3 2021-12-02 2023-08-22                    9999   \n",
       "3      A1330190        Name 4 2021-12-02 2023-08-22                     433   \n",
       "4      A1330200        Name 5 2023-01-04 2024-09-23                     433   \n",
       "..          ...           ...        ...        ...                     ...   \n",
       "107    A1344470      Name 108 2026-11-25 2027-03-12                      63   \n",
       "108    A1344480      Name 109 2027-03-15 2027-06-09                      63   \n",
       "109    A1344490      Name 110 2027-06-10 2027-09-06                      63   \n",
       "110    A1344500      Name 111 2027-09-07 2027-12-03                      63   \n",
       "111    A1344510      Name 112 2027-12-06 2028-03-17                      63   \n",
       "\n",
       "      CS ID      Stages        act_cs_id  \n",
       "0    CS6992     SCO.ROA  A1330160/CS6992  \n",
       "1    CS6881     SCO.ROA  A1330170/CS6881  \n",
       "2    CS6733     SCO.ROA  A1330180/CS6733  \n",
       "3    CS6672     SCO.ROA  A1330190/CS6672  \n",
       "4    CS6563     SCO.ROA  A1330200/CS6563  \n",
       "..      ...         ...              ...  \n",
       "107  CS7011  SCO.TA.CIS  A1344470/CS7011  \n",
       "108  CS7210  SCO.TA.CIS  A1344480/CS7210  \n",
       "109  CS7412  SCO.TA.CIS  A1344490/CS7412  \n",
       "110  CS7612  SCO.TA.CIS  A1344500/CS7612  \n",
       "111  CS7810  SCO.TA.CIS  A1344510/CS7810  \n",
       "\n",
       "[112 rows x 8 columns]"
      ]
     },
     "execution_count": 277,
     "metadata": {},
     "output_type": "execute_result"
    }
   ],
   "source": [
    "read_new_excel"
   ]
  },
  {
   "cell_type": "code",
   "execution_count": null,
   "metadata": {},
   "outputs": [],
   "source": []
  },
  {
   "cell_type": "code",
   "execution_count": null,
   "metadata": {},
   "outputs": [],
   "source": []
  },
  {
   "cell_type": "code",
   "execution_count": null,
   "metadata": {},
   "outputs": [],
   "source": []
  },
  {
   "cell_type": "code",
   "execution_count": null,
   "metadata": {},
   "outputs": [],
   "source": []
  },
  {
   "cell_type": "code",
   "execution_count": null,
   "metadata": {},
   "outputs": [],
   "source": []
  },
  {
   "cell_type": "code",
   "execution_count": null,
   "metadata": {},
   "outputs": [],
   "source": []
  },
  {
   "cell_type": "code",
   "execution_count": 250,
   "metadata": {},
   "outputs": [
    {
     "ename": "IndentationError",
     "evalue": "unexpected indent (Temp/ipykernel_12116/2606455982.py, line 2)",
     "output_type": "error",
     "traceback": [
      "\u001b[1;36m  File \u001b[1;32m\"C:\\Users\\VARTOT~1\\AppData\\Local\\Temp/ipykernel_12116/2606455982.py\"\u001b[1;36m, line \u001b[1;32m2\u001b[0m\n\u001b[1;33m    updvsorg = df_gis_update[~df_gis_update.act_cs_id.isin(df_gis.act_cs_id)]\u001b[0m\n\u001b[1;37m    ^\u001b[0m\n\u001b[1;31mIndentationError\u001b[0m\u001b[1;31m:\u001b[0m unexpected indent\n"
     ]
    }
   ],
   "source": [
    "#def patikra2(updvsorg, orgvsupd):\n",
    "    updvsorg = df_gis_update[~df_gis_update.act_cs_id.isin(df_gis.act_cs_id)]\n",
    "    orgvsupd = df_gis[~df_gis.act_cs_id.isin(df_gis_update.act_cs_id)]\n",
    "    if df_gis_update.act_cs_id.nunique() == len(df_gis_update.act_cs_id):\n",
    "        if updvsorg.empty and orgvsupd.empty:\n",
    "            return f'ID kodai ir objektu skaicius abejose lentelese sutampa. Viso objektu yra {df_gis_update.act_cs_id.nunique()}. Duomenys tinkami atnaujinimui'\n",
    "        elif len(updvsorg) > 0: # and orgvsupd.empty:\n",
    "            if len(updvsorg) > 0 and len(orgvsupd) > 0:\n",
    "                return f'ERROR: Neatitinka kodai esantys abejose lentelese. \\n Atnaujinimu lentele:\\n {updvsorg}\\n GIS lentele \\n{orgvsupd}'\n",
    "            else:\n",
    "                return f'ERROR: Rasti nauji objektai ({len(updvsorg)}). Detalus sarasas pateiktas zemiau \\n{updvsorg}'\n",
    "        elif len(orgvsupd) > 0 and updvsorg.empty:\n",
    "            return f'ERROR: Truksta objektu ({len(orgvsupd)}). Detalus sarasas pateiktas zemiau \\n{orgvsupd}'\n",
    "        elif len(updvsorg) > 0 and len(orgvsupd) > 0:\n",
    "            return f'ERROR: Neatitinka kodai esantys abejose lentelese. \\n Atnaujinimu lentele:\\n {updvsorg}\\n GIS lentele \\n{orgvsupd}'\n",
    "    else:\n",
    "        return 'ERROR: ID reiksmes dubliuojasi'\n",
    "\n",
    "print (patikra2(updvsorg, orgvsupd))"
   ]
  }
 ],
 "metadata": {
  "interpreter": {
   "hash": "300dc6409ba76354ad2ba64728fb92bcac588e406734ac1d0e0da2eacc6bb35a"
  },
  "kernelspec": {
   "display_name": "Python 3.9.7 64-bit",
   "name": "python3"
  },
  "language_info": {
   "codemirror_mode": {
    "name": "ipython",
    "version": 3
   },
   "file_extension": ".py",
   "mimetype": "text/x-python",
   "name": "python",
   "nbconvert_exporter": "python",
   "pygments_lexer": "ipython3",
   "version": "3.9.7"
  },
  "orig_nbformat": 4
 },
 "nbformat": 4,
 "nbformat_minor": 2
}
