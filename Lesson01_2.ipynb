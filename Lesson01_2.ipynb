{
 "cells": [
  {
   "cell_type": "code",
   "execution_count": 1,
   "source": [
    "sveikas_skaicius = 5\r\n",
    "my_int = 2\r\n",
    "sveikas_su_kableliu = 3.14\r\n",
    "my_float = 5.149"
   ],
   "outputs": [],
   "metadata": {}
  },
  {
   "cell_type": "code",
   "execution_count": 8,
   "source": [
    "print (5 + 4)\r\n",
    "print (5 ** 4)\r\n",
    "print (5 / 4)\r\n",
    "print (5 % 4)\r\n",
    "print (7 / 4)\r\n",
    "print (7 % 4)\r\n",
    "print (8 // 2)"
   ],
   "outputs": [
    {
     "output_type": "stream",
     "name": "stdout",
     "text": [
      "9\n",
      "625\n",
      "1.25\n",
      "1\n",
      "1.75\n",
      "3\n",
      "4\n"
     ]
    }
   ],
   "metadata": {}
  },
  {
   "cell_type": "code",
   "execution_count": 14,
   "source": [
    "my_sum = 0\r\n",
    "my_sum = my_sum +1\r\n",
    "print (my_sum)"
   ],
   "outputs": [
    {
     "output_type": "stream",
     "name": "stdout",
     "text": [
      "1\n"
     ]
    }
   ],
   "metadata": {}
  },
  {
   "cell_type": "code",
   "execution_count": 17,
   "source": [
    "my_sum += 1\r\n",
    "print (my_sum)"
   ],
   "outputs": [
    {
     "output_type": "stream",
     "name": "stdout",
     "text": [
      "4\n"
     ]
    }
   ],
   "metadata": {}
  },
  {
   "cell_type": "code",
   "execution_count": 19,
   "source": [
    "my_int_1 = 2\r\n",
    "my_int_2 = 15\r\n",
    "print (f\"SUma: {my_int_1 + my_int_2}\")\r\n",
    "print (f\"Skirtumas: {my_int_1 - my_int_2}\")\r\n",
    "print (f\"daugyba: {my_int_1 * my_int_2}\")\r\n",
    "print (f\"dalyba: {my_int_1 / my_int_2}\")\r\n",
    "print (f\"liekana: {my_int_1 % my_int_2}\")"
   ],
   "outputs": [
    {
     "output_type": "stream",
     "name": "stdout",
     "text": [
      "SUma: 17\n",
      "Skirtumas: -13\n",
      "daugyba: 30\n",
      "dalyba: 0.13333333333333333\n",
      "liekana: 2\n"
     ]
    }
   ],
   "metadata": {}
  },
  {
   "cell_type": "code",
   "execution_count": 22,
   "source": [
    "my_float_1 = 2.543\r\n",
    "my_float_2 = 15.7656\r\n",
    "print (f\"SUma: {my_float_1 + my_float_2}\")\r\n",
    "print (f\"Skirtumas: {my_float_1 - my_float_2}\")\r\n",
    "print (f\"daugyba: {my_float_1 * my_float_2}\")\r\n",
    "print (f\"dalyba: {my_float_1 / my_float_2}\")\r\n",
    "print (f\"liekana: {my_float_1 % my_float_2}\")"
   ],
   "outputs": [
    {
     "output_type": "stream",
     "name": "stdout",
     "text": [
      "SUma: 18.3086\n",
      "Skirtumas: -13.2226\n",
      "daugyba: 40.0919208\n",
      "dalyba: 0.16130055310295835\n",
      "liekana: 2.543\n"
     ]
    }
   ],
   "metadata": {}
  },
  {
   "cell_type": "code",
   "execution_count": 23,
   "source": [
    "Atstumas_menulis = 384000 # 384 * 10 ** 3\r\n",
    "Atstumas_saule = 150000000\r\n",
    "print (Atstumas_saule / Atstumas_menulis)"
   ],
   "outputs": [
    {
     "output_type": "stream",
     "name": "stdout",
     "text": [
      "390.625\n"
     ]
    }
   ],
   "metadata": {}
  },
  {
   "cell_type": "code",
   "execution_count": 27,
   "source": [
    "greitis = 150\r\n",
    "valandos = Atstumas_menulis / greitis\r\n",
    "print (f\"iki menulio valandomis {greitis} km/h uztruktume {valandos} valandu, \\\r\n",
    "    sekundziu {valandos * 3600}, dienu {valandos / 24}, menesiu {valandos / 24 / 30}, metu {valandos /24 / 30 / 12}\")"
   ],
   "outputs": [
    {
     "output_type": "stream",
     "name": "stdout",
     "text": [
      "iki menulio valandomis 150 km/h uztruktume 2560.0 valandu,     sekundziu 9216000.0, dienu 106.66666666666667, menesiu 3.555555555555556, metu 0.29629629629629634\n"
     ]
    }
   ],
   "metadata": {}
  },
  {
   "cell_type": "code",
   "execution_count": 29,
   "source": [
    "import datetime\r\n",
    "gimimo_metai = datetime.date(1986,11,26)\r\n",
    "siandienos_data = datetime.date(2021,10,5)\r\n",
    "print(siandienos_data - gimimo_metai)"
   ],
   "outputs": [
    {
     "output_type": "stream",
     "name": "stdout",
     "text": [
      "12732 days, 0:00:00\n"
     ]
    }
   ],
   "metadata": {}
  },
  {
   "cell_type": "code",
   "execution_count": 30,
   "source": [
    "a = 30 < 5\r\n",
    "print(a)"
   ],
   "outputs": [
    {
     "output_type": "stream",
     "name": "stdout",
     "text": [
      "False\n"
     ]
    }
   ],
   "metadata": {}
  },
  {
   "cell_type": "code",
   "execution_count": 31,
   "source": [
    "my_bool = False\r\n",
    "print (my_bool == True)"
   ],
   "outputs": [
    {
     "output_type": "stream",
     "name": "stdout",
     "text": [
      "False\n"
     ]
    }
   ],
   "metadata": {}
  },
  {
   "cell_type": "code",
   "execution_count": 35,
   "source": [
    "# >\r\n",
    "# <\r\n",
    "# == lyginame ar vienodos reiksmes\r\n",
    "# >=\r\n",
    "# <=\r\n",
    "# != - lyginame ar nevienodos reiksmes\r\n",
    "# 'is'  tikrina ar tai tas pats objektas\r\n",
    "print ('a' is \"a\" )"
   ],
   "outputs": [
    {
     "output_type": "stream",
     "name": "stdout",
     "text": [
      "True\n"
     ]
    },
    {
     "output_type": "stream",
     "name": "stderr",
     "text": [
      "<>:8: SyntaxWarning: \"is\" with a literal. Did you mean \"==\"?\n",
      "<>:8: SyntaxWarning: \"is\" with a literal. Did you mean \"==\"?\n",
      "C:\\Users\\VARTOT~1\\AppData\\Local\\Temp/ipykernel_17748/2917557490.py:8: SyntaxWarning: \"is\" with a literal. Did you mean \"==\"?\n",
      "  print ('a' is \"a\" )\n"
     ]
    }
   ],
   "metadata": {}
  },
  {
   "cell_type": "code",
   "execution_count": null,
   "source": [
    "# loginiai palyginimai\r\n",
    "# and\r\n",
    "# or\r\n",
    "# not"
   ],
   "outputs": [],
   "metadata": {}
  },
  {
   "cell_type": "code",
   "execution_count": 37,
   "source": [
    "print (True and True)\r\n",
    "print (True and False)\r\n",
    "print (2 > 1 and 5 > 10)"
   ],
   "outputs": [
    {
     "output_type": "stream",
     "name": "stdout",
     "text": [
      "True\n",
      "False\n",
      "False\n"
     ]
    }
   ],
   "metadata": {}
  },
  {
   "cell_type": "code",
   "execution_count": 39,
   "source": [
    "print (True or True)\r\n",
    "print (True or False)\r\n",
    "print (False or False)\r\n",
    "print (2 > 1 or 5 > 10)"
   ],
   "outputs": [
    {
     "output_type": "stream",
     "name": "stdout",
     "text": [
      "True\n",
      "True\n",
      "False\n",
      "True\n"
     ]
    }
   ],
   "metadata": {}
  },
  {
   "cell_type": "code",
   "execution_count": 40,
   "source": [
    "not True"
   ],
   "outputs": [
    {
     "output_type": "execute_result",
     "data": {
      "text/plain": [
       "False"
      ]
     },
     "metadata": {},
     "execution_count": 40
    }
   ],
   "metadata": {}
  },
  {
   "cell_type": "code",
   "execution_count": 43,
   "source": [
    "print (bool (5))\r\n",
    "print (bool (1))\r\n",
    "print (bool (0))\r\n",
    "print (bool (0.3))"
   ],
   "outputs": [
    {
     "output_type": "stream",
     "name": "stdout",
     "text": [
      "True\n",
      "True\n",
      "False\n",
      "True\n"
     ]
    }
   ],
   "metadata": {}
  },
  {
   "cell_type": "code",
   "execution_count": 45,
   "source": [
    "my_cities = [\"Vilnnius\", \"Kaunas\"]\r\n",
    "for city in my_cities:\r\n",
    "    print (city)\r\n",
    "print (\"pabaiga\")"
   ],
   "outputs": [
    {
     "output_type": "stream",
     "name": "stdout",
     "text": [
      "Vilnnius\n",
      "Kaunas\n",
      "pabaiga\n"
     ]
    }
   ],
   "metadata": {}
  }
 ],
 "metadata": {
  "orig_nbformat": 4,
  "language_info": {
   "name": "python",
   "version": "3.9.7",
   "mimetype": "text/x-python",
   "codemirror_mode": {
    "name": "ipython",
    "version": 3
   },
   "pygments_lexer": "ipython3",
   "nbconvert_exporter": "python",
   "file_extension": ".py"
  },
  "kernelspec": {
   "name": "python3",
   "display_name": "Python 3.9.7 64-bit"
  },
  "interpreter": {
   "hash": "300dc6409ba76354ad2ba64728fb92bcac588e406734ac1d0e0da2eacc6bb35a"
  }
 },
 "nbformat": 4,
 "nbformat_minor": 2
}