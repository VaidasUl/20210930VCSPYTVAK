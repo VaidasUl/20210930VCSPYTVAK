{
 "cells": [
  {
   "cell_type": "markdown",
   "metadata": {},
   "source": [
    "# Lesson 05 HW"
   ]
  },
  {
   "cell_type": "code",
   "execution_count": 1,
   "metadata": {},
   "outputs": [],
   "source": [
    "# 1. Parašykite funkciją, slaptažodžio generatorius, kuri priimtų int tipo kintamąjį ir grąžintų tokio ilgo slaptažodį\n",
    "# iš mažųjų, didžiųjų raidžių, skaičių ir simbolių Panaudoti random.randint metodą arba random.choice()\n",
    "\n",
    "import random\n",
    "import string\n",
    "\n",
    "def slaptazodzio_generatorius(number):\n",
    "    galimas_pasirinkimas = string.ascii_letters + string.digits + string.punctuation\n",
    "    slaptazodis =[]\n",
    "    while number>0:\n",
    "        number -=1\n",
    "        slaptazodis.append((random.choice(galimas_pasirinkimas)))\n",
    "    print (slaptazodis)\n",
    "    print ((f'Sugeneruotas slaptazodis yra:'),(''.join(slaptazodis)))\n",
    "     "
   ]
  },
  {
   "cell_type": "code",
   "execution_count": 209,
   "metadata": {},
   "outputs": [
    {
     "name": "stdout",
     "output_type": "stream",
     "text": [
      "['(', 'T', 'k', '4', ';', '\"', '#', 'C', 'g', 'l', '~', '^', 's', '<', 'L']\n",
      "Sugeneruotas slaptazodis yra: (Tk4;\"#Cgl~^s<L\n"
     ]
    }
   ],
   "source": [
    "slaptazodzio_generatorius(15)"
   ]
  },
  {
   "cell_type": "code",
   "execution_count": 2,
   "metadata": {},
   "outputs": [
    {
     "name": "stdout",
     "output_type": "stream",
     "text": [
      "['%', ',', 'C', '\\\\', 'p', ',', 'R', 'c', 'Q', '.', 'm', 'q', 'd', '\"', ')', '`', 'c', 'K', 's', 'U']\n",
      "Sugeneruotas slaptazodis yra: %,C\\p,RcQ.mqd\")`cKsU\n"
     ]
    }
   ],
   "source": [
    "user_input = int(input(\"iveskite skaiciu\"))\n",
    "slaptazodzio_generatorius(user_input)"
   ]
  },
  {
   "cell_type": "code",
   "execution_count": null,
   "metadata": {},
   "outputs": [],
   "source": [
    "# 2. Parašyti funkciją, kuri priima list ir sveiką skaičių k. Funkcija gražina didžiausią k kaimyninių narių sumą. Pvz:\n",
    "\n",
    "def kaimynu_suma (list, k):\n",
    "    suma = 0\n",
    "    \n",
    "    "
   ]
  },
  {
   "cell_type": "code",
   "execution_count": 203,
   "metadata": {},
   "outputs": [],
   "source": [
    "# 3. Parašyti funkciją, kuri priima list ir sveiką skaičių k. Funkcija gražina sąrašą skaičių porų, tarp kurių skirtumas yra lygus įvestam\n",
    "# skaičiui k. Jei tokių porų nėra, gražina False.\n",
    "\n",
    "def skaiciu_skirtumas (list2, k2):\n",
    "    sarasas = []\n",
    "    x = None\n",
    "    for sk1 in list2:\n",
    "        for sk2 in list2:\n",
    "            if (sk2-sk1) == k2:\n",
    "                x = (sk1, sk2)\n",
    "                sarasas.append(tuple(x))\n",
    "    if sarasas:\n",
    "        print (sarasas)\n",
    "    else:\n",
    "        print (False)\n",
    "\n",
    "    \n",
    "            "
   ]
  },
  {
   "cell_type": "code",
   "execution_count": 204,
   "metadata": {},
   "outputs": [
    {
     "name": "stdout",
     "output_type": "stream",
     "text": [
      "[(0, 4), (4, 8)]\n",
      "[(0, 2), (2, 4)]\n",
      "[(-2, 8)]\n",
      "False\n"
     ]
    }
   ],
   "source": [
    "skaiciu_skirtumas([0,2,4,8], 4)\n",
    "skaiciu_skirtumas([0,2,4,8], 2)\n",
    "skaiciu_skirtumas([-2,0,2,4,8], 10)\n",
    "skaiciu_skirtumas([-2,0,2,4,8], 11)"
   ]
  },
  {
   "cell_type": "markdown",
   "metadata": {},
   "source": [
    "# Lesson 06 HW"
   ]
  },
  {
   "cell_type": "code",
   "execution_count": 3,
   "metadata": {},
   "outputs": [
    {
     "name": "stdout",
     "output_type": "stream",
     "text": [
      "c:\\My Documents\\Mokymai ir kt info\\Python\\20210930VCSPYTVAK\n"
     ]
    }
   ],
   "source": [
    "print (os.getcwd())"
   ]
  },
  {
   "cell_type": "code",
   "execution_count": 8,
   "metadata": {},
   "outputs": [
    {
     "name": "stdout",
     "output_type": "stream",
     "text": [
      "C:\\Users\\Vartotojas\\Desktop\n"
     ]
    }
   ],
   "source": [
    "os.chdir('C:\\\\Users\\\\Vartotojas\\\\Desktop')\n",
    "print (os.getcwd())"
   ]
  },
  {
   "cell_type": "code",
   "execution_count": 11,
   "metadata": {},
   "outputs": [
    {
     "ename": "FileExistsError",
     "evalue": "[WinError 183] Cannot create a file when that file already exists: 'PythonLesson06'",
     "output_type": "error",
     "traceback": [
      "\u001b[1;31m---------------------------------------------------------------------------\u001b[0m",
      "\u001b[1;31mFileExistsError\u001b[0m                           Traceback (most recent call last)",
      "\u001b[1;32mC:\\Users\\VARTOT~1\\AppData\\Local\\Temp/ipykernel_9868/2132502437.py\u001b[0m in \u001b[0;36m<module>\u001b[1;34m\u001b[0m\n\u001b[1;32m----> 1\u001b[1;33m \u001b[0mos\u001b[0m\u001b[1;33m.\u001b[0m\u001b[0mmkdir\u001b[0m\u001b[1;33m(\u001b[0m\u001b[1;34m'PythonLesson06'\u001b[0m\u001b[1;33m)\u001b[0m\u001b[1;33m\u001b[0m\u001b[1;33m\u001b[0m\u001b[0m\n\u001b[0m",
      "\u001b[1;31mFileExistsError\u001b[0m: [WinError 183] Cannot create a file when that file already exists: 'PythonLesson06'"
     ]
    }
   ],
   "source": [
    "os.mkdir('PythonLesson06')\n"
   ]
  },
  {
   "cell_type": "code",
   "execution_count": 12,
   "metadata": {},
   "outputs": [],
   "source": [
    "os.mkdir('PythonLesson06\\\\New')"
   ]
  },
  {
   "cell_type": "code",
   "execution_count": 31,
   "metadata": {},
   "outputs": [
    {
     "data": {
      "text/plain": [
       "'C:\\\\Users\\\\Vartotojas\\\\Desktop'"
      ]
     },
     "execution_count": 31,
     "metadata": {},
     "output_type": "execute_result"
    }
   ],
   "source": [
    "os.chdir('C:\\\\Users\\\\Vartotojas\\\\Desktop')\n",
    "os.getcwd()"
   ]
  },
  {
   "cell_type": "code",
   "execution_count": 33,
   "metadata": {},
   "outputs": [
    {
     "name": "stdout",
     "output_type": "stream",
     "text": [
      "Laba diena\n",
      "Esu\n",
      "Vaidas\n"
     ]
    }
   ],
   "source": [
    "with open ('PythonLesson06\\\\New\\\\mano_tekstas.txt', 'r') as f:\n",
    "    print (f.read())"
   ]
  },
  {
   "cell_type": "code",
   "execution_count": 40,
   "metadata": {},
   "outputs": [
    {
     "data": {
      "text/plain": [
       "'C:/Users/Vartotojas/Desktop/PythonLesson06/New/mano_tekstas_copy.txt'"
      ]
     },
     "execution_count": 40,
     "metadata": {},
     "output_type": "execute_result"
    }
   ],
   "source": [
    "import shutil\n",
    "\n",
    "shutil.copyfile('C:/Users/Vartotojas/Desktop/PythonLesson06/New/mano_tekstas.txt', 'C:/Users/Vartotojas/Desktop/PythonLesson06/New/mano_tekstas_copy.txt')\n"
   ]
  },
  {
   "cell_type": "code",
   "execution_count": 41,
   "metadata": {},
   "outputs": [
    {
     "data": {
      "text/plain": [
       "'C:\\\\Users\\\\Vartotojas\\\\Desktop'"
      ]
     },
     "execution_count": 41,
     "metadata": {},
     "output_type": "execute_result"
    }
   ],
   "source": [
    "os.getcwd()"
   ]
  },
  {
   "cell_type": "code",
   "execution_count": 42,
   "metadata": {},
   "outputs": [],
   "source": [
    "os.rename('PythonLesson06/New/mano_tekstas_copy.txt', 'PythonLesson06/New/mano_tekstas_copy_rename.txt')"
   ]
  },
  {
   "cell_type": "code",
   "execution_count": 44,
   "metadata": {},
   "outputs": [
    {
     "data": {
      "text/plain": [
       "'C:\\\\Users\\\\Vartotojas\\\\Desktop'"
      ]
     },
     "execution_count": 44,
     "metadata": {},
     "output_type": "execute_result"
    }
   ],
   "source": [
    "os.getcwd()"
   ]
  },
  {
   "cell_type": "code",
   "execution_count": 47,
   "metadata": {},
   "outputs": [
    {
     "name": "stdout",
     "output_type": "stream",
     "text": [
      "failas nerastas\n"
     ]
    }
   ],
   "source": [
    "if os.path.isfile('PythonLesson06/New/mano_tekstas_copy_rename.txt') == True:\n",
    "    os.remove('PythonLesson06/New/mano_tekstas_copy_rename.txt')\n",
    "    print ('failas rastas ir istrintas')\n",
    "else:\n",
    "    print ('failas nerastas')\n"
   ]
  },
  {
   "cell_type": "code",
   "execution_count": 54,
   "metadata": {},
   "outputs": [
    {
     "data": {
      "text/plain": [
       "'C:\\\\Users\\\\Vartotojas\\\\Desktop'"
      ]
     },
     "execution_count": 54,
     "metadata": {},
     "output_type": "execute_result"
    }
   ],
   "source": [
    "os.getcwd()"
   ]
  },
  {
   "cell_type": "code",
   "execution_count": 56,
   "metadata": {},
   "outputs": [],
   "source": [
    "os.remove('PythonLesson06/New/mano_tekstas.txt')"
   ]
  },
  {
   "cell_type": "code",
   "execution_count": 58,
   "metadata": {},
   "outputs": [],
   "source": [
    "shutil.rmtree('PythonLesson06')"
   ]
  },
  {
   "cell_type": "code",
   "execution_count": 64,
   "metadata": {},
   "outputs": [],
   "source": [
    "import pandas as pd\n",
    "import os"
   ]
  },
  {
   "cell_type": "code",
   "execution_count": 94,
   "metadata": {},
   "outputs": [
    {
     "data": {
      "text/plain": [
       "'C:\\\\My Documents\\\\Mokymai ir kt info\\\\Python\\\\10_Final_Project\\\\GIS_DB'"
      ]
     },
     "execution_count": 94,
     "metadata": {},
     "output_type": "execute_result"
    }
   ],
   "source": [
    "os.getcwd()\n",
    "os.chdir('C:/My Documents/Mokymai ir kt info/Python/10_Final_Project/GIS_DB')\n",
    "os.getcwd()"
   ]
  },
  {
   "cell_type": "code",
   "execution_count": 96,
   "metadata": {},
   "outputs": [],
   "source": [
    "read_file = pd.read_excel('CS_GIS_DATA.xlsx')\n",
    "read_file.to_csv('CS_GIS_DATA.csv', index = None, header = True)\n",
    "df_gis = pd.read_csv('CS_GIS_DATA.csv')"
   ]
  },
  {
   "cell_type": "code",
   "execution_count": 100,
   "metadata": {},
   "outputs": [
    {
     "name": "stdout",
     "output_type": "stream",
     "text": [
      "<class 'pandas.core.frame.DataFrame'>\n",
      "RangeIndex: 112 entries, 0 to 111\n",
      "Data columns (total 7 columns):\n",
      " #   Column                  Non-Null Count  Dtype \n",
      "---  ------                  --------------  ----- \n",
      " 0   Activity ID             112 non-null    object\n",
      " 1   Activity Name           112 non-null    object\n",
      " 2   Start                   108 non-null    object\n",
      " 3   Finish                  112 non-null    object\n",
      " 4   At Completion Duration  112 non-null    int64 \n",
      " 5   CS ID                   112 non-null    object\n",
      " 6   Stages                  112 non-null    object\n",
      "dtypes: int64(1), object(6)\n",
      "memory usage: 6.2+ KB\n"
     ]
    }
   ],
   "source": [
    "df_gis.info()"
   ]
  },
  {
   "cell_type": "code",
   "execution_count": 90,
   "metadata": {},
   "outputs": [
    {
     "name": "stdout",
     "output_type": "stream",
     "text": [
      "<class 'pandas.core.frame.DataFrame'>\n",
      "RangeIndex: 112 entries, 0 to 111\n",
      "Data columns (total 7 columns):\n",
      " #   Column                 Non-Null Count  Dtype \n",
      "---  ------                 --------------  ----- \n",
      " 0   Activity ID            112 non-null    object\n",
      " 1   Activity Name          112 non-null    object\n",
      " 2   Start                  108 non-null    object\n",
      " 3   Finish                 112 non-null    object\n",
      " 4   At Completion uration  112 non-null    int64 \n",
      " 5   CS ID                  112 non-null    object\n",
      " 6   Stages                 112 non-null    object\n",
      "dtypes: int64(1), object(6)\n",
      "memory usage: 6.2+ KB\n"
     ]
    }
   ],
   "source": [
    "df_gis.info()"
   ]
  },
  {
   "cell_type": "code",
   "execution_count": 91,
   "metadata": {},
   "outputs": [],
   "source": [
    "df = pd.read_excel('CS_GIS_DATA.xlsx')"
   ]
  },
  {
   "cell_type": "code",
   "execution_count": 92,
   "metadata": {},
   "outputs": [
    {
     "data": {
      "text/html": [
       "<div>\n",
       "<style scoped>\n",
       "    .dataframe tbody tr th:only-of-type {\n",
       "        vertical-align: middle;\n",
       "    }\n",
       "\n",
       "    .dataframe tbody tr th {\n",
       "        vertical-align: top;\n",
       "    }\n",
       "\n",
       "    .dataframe thead th {\n",
       "        text-align: right;\n",
       "    }\n",
       "</style>\n",
       "<table border=\"1\" class=\"dataframe\">\n",
       "  <thead>\n",
       "    <tr style=\"text-align: right;\">\n",
       "      <th></th>\n",
       "      <th>Activity ID</th>\n",
       "      <th>Activity Name</th>\n",
       "      <th>Start</th>\n",
       "      <th>Finish</th>\n",
       "      <th>At Completion Duration</th>\n",
       "      <th>CS ID</th>\n",
       "      <th>Stages</th>\n",
       "    </tr>\n",
       "  </thead>\n",
       "  <tbody>\n",
       "    <tr>\n",
       "      <th>0</th>\n",
       "      <td>A1330160</td>\n",
       "      <td>Name 1</td>\n",
       "      <td>2022-09-13</td>\n",
       "      <td>2024-05-31</td>\n",
       "      <td>433</td>\n",
       "      <td>CS6992</td>\n",
       "      <td>SCO.ROA</td>\n",
       "    </tr>\n",
       "    <tr>\n",
       "      <th>1</th>\n",
       "      <td>A1330170</td>\n",
       "      <td>Name 2</td>\n",
       "      <td>2022-09-13</td>\n",
       "      <td>2024-05-31</td>\n",
       "      <td>433</td>\n",
       "      <td>CS6881</td>\n",
       "      <td>SCO.ROA</td>\n",
       "    </tr>\n",
       "    <tr>\n",
       "      <th>2</th>\n",
       "      <td>A1330180</td>\n",
       "      <td>Name 3</td>\n",
       "      <td>2020-01-01</td>\n",
       "      <td>2020-01-01</td>\n",
       "      <td>433</td>\n",
       "      <td>CS6733</td>\n",
       "      <td>SCO.ROA</td>\n",
       "    </tr>\n",
       "    <tr>\n",
       "      <th>3</th>\n",
       "      <td>A1330190</td>\n",
       "      <td>Name 4</td>\n",
       "      <td>2020-01-01</td>\n",
       "      <td>2020-01-01</td>\n",
       "      <td>433</td>\n",
       "      <td>CS6672</td>\n",
       "      <td>SCO.ROA</td>\n",
       "    </tr>\n",
       "    <tr>\n",
       "      <th>4</th>\n",
       "      <td>A1330200</td>\n",
       "      <td>Name 5</td>\n",
       "      <td>2020-01-01</td>\n",
       "      <td>2020-01-01</td>\n",
       "      <td>433</td>\n",
       "      <td>CS6563</td>\n",
       "      <td>SCO.ROA</td>\n",
       "    </tr>\n",
       "    <tr>\n",
       "      <th>...</th>\n",
       "      <td>...</td>\n",
       "      <td>...</td>\n",
       "      <td>...</td>\n",
       "      <td>...</td>\n",
       "      <td>...</td>\n",
       "      <td>...</td>\n",
       "      <td>...</td>\n",
       "    </tr>\n",
       "    <tr>\n",
       "      <th>107</th>\n",
       "      <td>A1344470</td>\n",
       "      <td>Name 108</td>\n",
       "      <td>2026-11-25</td>\n",
       "      <td>2027-03-12</td>\n",
       "      <td>63</td>\n",
       "      <td>CS7011</td>\n",
       "      <td>SCO.TA.CIS</td>\n",
       "    </tr>\n",
       "    <tr>\n",
       "      <th>108</th>\n",
       "      <td>A1344480</td>\n",
       "      <td>Name 109</td>\n",
       "      <td>2027-03-15</td>\n",
       "      <td>2027-06-09</td>\n",
       "      <td>63</td>\n",
       "      <td>CS7210</td>\n",
       "      <td>SCO.TA.CIS</td>\n",
       "    </tr>\n",
       "    <tr>\n",
       "      <th>109</th>\n",
       "      <td>A1344490</td>\n",
       "      <td>Name 110</td>\n",
       "      <td>2027-06-10</td>\n",
       "      <td>2027-09-06</td>\n",
       "      <td>63</td>\n",
       "      <td>CS7412</td>\n",
       "      <td>SCO.TA.CIS</td>\n",
       "    </tr>\n",
       "    <tr>\n",
       "      <th>110</th>\n",
       "      <td>A1344500</td>\n",
       "      <td>Name 111</td>\n",
       "      <td>2020-01-01</td>\n",
       "      <td>2020-01-01</td>\n",
       "      <td>63</td>\n",
       "      <td>CS7612</td>\n",
       "      <td>SCO.TA.CIS</td>\n",
       "    </tr>\n",
       "    <tr>\n",
       "      <th>111</th>\n",
       "      <td>A1344510</td>\n",
       "      <td>Name 112</td>\n",
       "      <td>2027-12-06</td>\n",
       "      <td>2028-03-17</td>\n",
       "      <td>63</td>\n",
       "      <td>CS7810</td>\n",
       "      <td>SCO.TA.CIS</td>\n",
       "    </tr>\n",
       "  </tbody>\n",
       "</table>\n",
       "<p>112 rows × 7 columns</p>\n",
       "</div>"
      ],
      "text/plain": [
       "    Activity ID Activity Name      Start     Finish  At Completion Duration  \\\n",
       "0      A1330160        Name 1 2022-09-13 2024-05-31                     433   \n",
       "1      A1330170        Name 2 2022-09-13 2024-05-31                     433   \n",
       "2      A1330180        Name 3 2020-01-01 2020-01-01                     433   \n",
       "3      A1330190        Name 4 2020-01-01 2020-01-01                     433   \n",
       "4      A1330200        Name 5 2020-01-01 2020-01-01                     433   \n",
       "..          ...           ...        ...        ...                     ...   \n",
       "107    A1344470      Name 108 2026-11-25 2027-03-12                      63   \n",
       "108    A1344480      Name 109 2027-03-15 2027-06-09                      63   \n",
       "109    A1344490      Name 110 2027-06-10 2027-09-06                      63   \n",
       "110    A1344500      Name 111 2020-01-01 2020-01-01                      63   \n",
       "111    A1344510      Name 112 2027-12-06 2028-03-17                      63   \n",
       "\n",
       "      CS ID      Stages  \n",
       "0    CS6992     SCO.ROA  \n",
       "1    CS6881     SCO.ROA  \n",
       "2    CS6733     SCO.ROA  \n",
       "3    CS6672     SCO.ROA  \n",
       "4    CS6563     SCO.ROA  \n",
       "..      ...         ...  \n",
       "107  CS7011  SCO.TA.CIS  \n",
       "108  CS7210  SCO.TA.CIS  \n",
       "109  CS7412  SCO.TA.CIS  \n",
       "110  CS7612  SCO.TA.CIS  \n",
       "111  CS7810  SCO.TA.CIS  \n",
       "\n",
       "[112 rows x 7 columns]"
      ]
     },
     "execution_count": 92,
     "metadata": {},
     "output_type": "execute_result"
    }
   ],
   "source": [
    "df"
   ]
  },
  {
   "cell_type": "code",
   "execution_count": 93,
   "metadata": {},
   "outputs": [
    {
     "name": "stdout",
     "output_type": "stream",
     "text": [
      "<class 'pandas.core.frame.DataFrame'>\n",
      "RangeIndex: 112 entries, 0 to 111\n",
      "Data columns (total 7 columns):\n",
      " #   Column                  Non-Null Count  Dtype         \n",
      "---  ------                  --------------  -----         \n",
      " 0   Activity ID             112 non-null    object        \n",
      " 1   Activity Name           112 non-null    object        \n",
      " 2   Start                   108 non-null    datetime64[ns]\n",
      " 3   Finish                  112 non-null    datetime64[ns]\n",
      " 4   At Completion Duration  112 non-null    int64         \n",
      " 5   CS ID                   112 non-null    object        \n",
      " 6   Stages                  112 non-null    object        \n",
      "dtypes: datetime64[ns](2), int64(1), object(4)\n",
      "memory usage: 6.2+ KB\n"
     ]
    }
   ],
   "source": [
    "df.info()"
   ]
  }
 ],
 "metadata": {
  "interpreter": {
   "hash": "300dc6409ba76354ad2ba64728fb92bcac588e406734ac1d0e0da2eacc6bb35a"
  },
  "kernelspec": {
   "display_name": "Python 3.9.7 64-bit",
   "name": "python3"
  },
  "language_info": {
   "codemirror_mode": {
    "name": "ipython",
    "version": 3
   },
   "file_extension": ".py",
   "mimetype": "text/x-python",
   "name": "python",
   "nbconvert_exporter": "python",
   "pygments_lexer": "ipython3",
   "version": "3.9.7"
  },
  "orig_nbformat": 4
 },
 "nbformat": 4,
 "nbformat_minor": 2
}
