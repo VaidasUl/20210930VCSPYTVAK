{
 "cells": [
  {
   "cell_type": "markdown",
   "metadata": {},
   "source": [
    "# Lesson 05 HW"
   ]
  },
  {
   "cell_type": "code",
   "execution_count": 92,
   "metadata": {},
   "outputs": [],
   "source": [
    "# 1. Parašykite funkciją, slaptažodžio generatorius, kuri priimtų int tipo kintamąjį ir grąžintų tokio ilgo slaptažodį\n",
    "# iš mažųjų, didžiųjų raidžių, skaičių ir simbolių Panaudoti random.randint metodą arba random.choice()\n",
    "\n",
    "import random\n",
    "import string\n",
    "\n",
    "def slaptazodzio_generatorius(number):\n",
    "    galimas_pasirinkimas = string.ascii_letters + string.digits + string.punctuation\n",
    "    x = number\n",
    "    slaptazodis =[]\n",
    "    while x>0:\n",
    "        x -=1\n",
    "        slaptazodis.append((random.choice(galimas_pasirinkimas)))\n",
    "    print (slaptazodis)\n",
    "    print ((f'Jusu slaptazodis yra:'),(''.join(slaptazodis)))\n",
    "     "
   ]
  },
  {
   "cell_type": "code",
   "execution_count": 93,
   "metadata": {},
   "outputs": [
    {
     "name": "stdout",
     "output_type": "stream",
     "text": [
      "['{', 'z', 'B', 'R', 'q', '1', '#', 'G', '+', '\"', 'y', '}', 'j', '=', 'N', 's', 'B', '5', 'n', 'F']\n",
      "Jusu slaptazodis yra: {zBRq1#G+\"y}j=NsB5nF\n"
     ]
    }
   ],
   "source": [
    "user_input = int(input(\"iveskite skaiciu\"))\n",
    "slaptazodzio_generatorius(user_input)"
   ]
  }
 ],
 "metadata": {
  "interpreter": {
   "hash": "300dc6409ba76354ad2ba64728fb92bcac588e406734ac1d0e0da2eacc6bb35a"
  },
  "kernelspec": {
   "display_name": "Python 3.9.7 64-bit",
   "name": "python3"
  },
  "language_info": {
   "codemirror_mode": {
    "name": "ipython",
    "version": 3
   },
   "file_extension": ".py",
   "mimetype": "text/x-python",
   "name": "python",
   "nbconvert_exporter": "python",
   "pygments_lexer": "ipython3",
   "version": "3.9.7"
  },
  "orig_nbformat": 4
 },
 "nbformat": 4,
 "nbformat_minor": 2
}
