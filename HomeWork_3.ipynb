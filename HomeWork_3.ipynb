{
 "cells": [
  {
   "cell_type": "markdown",
   "metadata": {},
   "source": [
    "# Lesson 05 HW"
   ]
  },
  {
   "cell_type": "code",
   "execution_count": 7,
   "metadata": {},
   "outputs": [],
   "source": [
    "# 1. Parašykite funkciją, slaptažodžio generatorius, kuri priimtų int tipo kintamąjį ir grąžintų tokio ilgo slaptažodį\n",
    "# iš mažųjų, didžiųjų raidžių, skaičių ir simbolių Panaudoti random.randint metodą arba random.choice()\n",
    "\n",
    "import random\n",
    "import string\n",
    "\n",
    "def slaptazodzio_generatorius(number):\n",
    "    galimas_pasirinkimas = string.ascii_letters + string.digits + string.punctuation\n",
    "    slaptazodis =[]\n",
    "    while number>0:\n",
    "        number -=1\n",
    "        slaptazodis.append((random.choice(galimas_pasirinkimas)))\n",
    "    print (slaptazodis)\n",
    "    print ((f'Jusu slaptazodis yra:'),(''.join(slaptazodis)))\n",
    "     "
   ]
  },
  {
   "cell_type": "code",
   "execution_count": 8,
   "metadata": {},
   "outputs": [
    {
     "name": "stdout",
     "output_type": "stream",
     "text": [
      "['J', 'V', 'd', '~', '3', '-', 'W', 'N', '*', '9', 'J', ',', '1', '=', '?', 'm', 'x', '|', '?', ':', 'G', 'Z', '6', '!', 'y']\n",
      "Jusu slaptazodis yra: JVd~3-WN*9J,1=?mx|?:GZ6!y\n"
     ]
    }
   ],
   "source": [
    "user_input = int(input(\"iveskite skaiciu\"))\n",
    "slaptazodzio_generatorius(user_input)"
   ]
  },
  {
   "cell_type": "code",
   "execution_count": null,
   "metadata": {},
   "outputs": [],
   "source": [
    "# 2. Parašyti funkciją, kuri priima list ir sveiką skaičių k. Funkcija gražina didžiausią k kaimyninių narių sumą. Pvz:\n",
    "\n",
    "def kaimynu_suma (list, k):\n",
    "    suma = 0\n",
    "    \n",
    "    "
   ]
  },
  {
   "cell_type": "code",
   "execution_count": 201,
   "metadata": {},
   "outputs": [],
   "source": [
    "# 3. Parašyti funkciją, kuri priima list ir sveiką skaičių k. Funkcija gražina sąrašą skaičių porų, tarp kurių skirtumas yra lygus įvestam\n",
    "# skaičiui k. Jei tokių porų nėra, gražina False.\n",
    "\n",
    "def skaiciu_skirtumas (list2, k2):\n",
    "    sarasas = []\n",
    "    x = None\n",
    "    for sk1 in list2:\n",
    "        for sk2 in list2:\n",
    "            if (sk2-sk1) == k2:\n",
    "                x = (sk1, sk2)\n",
    "                sarasas.append(tuple(x))\n",
    "    if sarasas:\n",
    "        print (sarasas)\n",
    "    else:\n",
    "        print (False)\n",
    "\n",
    "    \n",
    "            "
   ]
  },
  {
   "cell_type": "code",
   "execution_count": 202,
   "metadata": {},
   "outputs": [
    {
     "name": "stdout",
     "output_type": "stream",
     "text": [
      "[(0, 4), (4, 8)]\n",
      "[(0, 2), (2, 4)]\n",
      "[(-2, 8)]\n",
      "False\n"
     ]
    }
   ],
   "source": [
    "skaiciu_skirtumas([0,2,4,8], 4)\n",
    "skaiciu_skirtumas([0,2,4,8], 2)\n",
    "skaiciu_skirtumas([-2,0,2,4,8], 10)\n",
    "skaiciu_skirtumas([-2,0,2,4,8], 11)"
   ]
  },
  {
   "cell_type": "code",
   "execution_count": 186,
   "metadata": {},
   "outputs": [
    {
     "name": "stdout",
     "output_type": "stream",
     "text": [
      "[(0, 4), (4, 8)]\n",
      "[(0, 2), (2, 4)]\n",
      "[(-2, 8)]\n",
      "[]\n"
     ]
    }
   ],
   "source": [
    "print (skaiciuskirtumas([0,2,4,8], 4))\n",
    "print (skaiciuskirtumas([0,2,4,8], 2))\n",
    "print (skaiciuskirtumas([-2,0,2,4,8], 10))\n",
    "print (skaiciuskirtumas([-2,0,2,4,8], 11))"
   ]
  },
  {
   "cell_type": "code",
   "execution_count": 74,
   "metadata": {},
   "outputs": [
    {
     "name": "stdout",
     "output_type": "stream",
     "text": [
      "4 0\n",
      "8 4\n"
     ]
    }
   ],
   "source": [
    "list3 = [0,2,4,8]\n",
    "list4 = [0,2,4,8]\n",
    "k = 4\n",
    "x= 0\n",
    "for sk1 in list3:\n",
    "    for sk2 in list4:\n",
    "        x = sk1-sk2\n",
    "        if x == k:\n",
    "            print (sk1, sk2)"
   ]
  }
 ],
 "metadata": {
  "interpreter": {
   "hash": "300dc6409ba76354ad2ba64728fb92bcac588e406734ac1d0e0da2eacc6bb35a"
  },
  "kernelspec": {
   "display_name": "Python 3.9.7 64-bit",
   "name": "python3"
  },
  "language_info": {
   "codemirror_mode": {
    "name": "ipython",
    "version": 3
   },
   "file_extension": ".py",
   "mimetype": "text/x-python",
   "name": "python",
   "nbconvert_exporter": "python",
   "pygments_lexer": "ipython3",
   "version": "3.9.7"
  },
  "orig_nbformat": 4
 },
 "nbformat": 4,
 "nbformat_minor": 2
}
